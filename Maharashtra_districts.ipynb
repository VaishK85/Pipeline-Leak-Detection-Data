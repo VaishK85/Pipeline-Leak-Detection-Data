{
 "cells": [
  {
   "cell_type": "code",
   "execution_count": 39,
   "id": "c067ff47-3b92-455f-a076-dad461e8cf13",
   "metadata": {},
   "outputs": [
    {
     "name": "stdout",
     "output_type": "stream",
     "text": [
      "Defaulting to user installation because normal site-packages is not writeable\n",
      "Requirement already satisfied: pandas in c:\\users\\vaish\\appdata\\roaming\\python\\python312\\site-packages (2.3.0)\n",
      "Requirement already satisfied: numpy in c:\\users\\vaish\\appdata\\roaming\\python\\python312\\site-packages (2.2.2)\n",
      "Requirement already satisfied: matplotlib in c:\\users\\vaish\\appdata\\roaming\\python\\python312\\site-packages (3.10.3)\n",
      "Requirement already satisfied: seaborn in c:\\users\\vaish\\appdata\\roaming\\python\\python312\\site-packages (0.13.2)\n",
      "Requirement already satisfied: python-dateutil>=2.8.2 in c:\\users\\vaish\\appdata\\roaming\\python\\python312\\site-packages (from pandas) (2.9.0.post0)\n",
      "Requirement already satisfied: pytz>=2020.1 in c:\\users\\vaish\\appdata\\roaming\\python\\python312\\site-packages (from pandas) (2025.2)\n",
      "Requirement already satisfied: tzdata>=2022.7 in c:\\users\\vaish\\appdata\\roaming\\python\\python312\\site-packages (from pandas) (2025.2)\n",
      "Requirement already satisfied: contourpy>=1.0.1 in c:\\users\\vaish\\appdata\\roaming\\python\\python312\\site-packages (from matplotlib) (1.3.2)\n",
      "Requirement already satisfied: cycler>=0.10 in c:\\users\\vaish\\appdata\\roaming\\python\\python312\\site-packages (from matplotlib) (0.12.1)\n",
      "Requirement already satisfied: fonttools>=4.22.0 in c:\\users\\vaish\\appdata\\roaming\\python\\python312\\site-packages (from matplotlib) (4.58.1)\n",
      "Requirement already satisfied: kiwisolver>=1.3.1 in c:\\users\\vaish\\appdata\\roaming\\python\\python312\\site-packages (from matplotlib) (1.4.8)\n",
      "Requirement already satisfied: packaging>=20.0 in c:\\users\\vaish\\appdata\\roaming\\python\\python312\\site-packages (from matplotlib) (25.0)\n",
      "Requirement already satisfied: pillow>=8 in c:\\users\\vaish\\appdata\\roaming\\python\\python312\\site-packages (from matplotlib) (11.1.0)\n",
      "Requirement already satisfied: pyparsing>=2.3.1 in c:\\users\\vaish\\appdata\\roaming\\python\\python312\\site-packages (from matplotlib) (3.2.1)\n",
      "Requirement already satisfied: six>=1.5 in c:\\users\\vaish\\appdata\\roaming\\python\\python312\\site-packages (from python-dateutil>=2.8.2->pandas) (1.17.0)\n",
      "Note: you may need to restart the kernel to use updated packages.\n"
     ]
    }
   ],
   "source": [
    "pip install pandas numpy matplotlib seaborn"
   ]
  },
  {
   "cell_type": "markdown",
   "id": "4624ff12-5c70-4465-9563-ee1a217276d6",
   "metadata": {},
   "source": [
    "# Import and Display"
   ]
  },
  {
   "cell_type": "code",
   "execution_count": 21,
   "id": "99124e6d-f916-4863-902d-51c7b0b14bec",
   "metadata": {},
   "outputs": [],
   "source": [
    "import os\n",
    "import numpy as np\n",
    "import pandas as pd\n",
    "import matplotlib.pyplot as plt\n",
    "\n",
    "pd.set_option(\"display.max_columns\", None)\n",
    "pd.set_option(\"display.width\", 120)"
   ]
  },
  {
   "cell_type": "markdown",
   "id": "7876b301-ba6d-489f-a682-775323fa8a8e",
   "metadata": {},
   "source": [
    "# Load CSV File"
   ]
  },
  {
   "cell_type": "code",
   "execution_count": 22,
   "id": "acf844e7-ec2b-426f-971e-9913b3cb80dc",
   "metadata": {},
   "outputs": [],
   "source": [
    "df = pd.read_csv(\"maharashtra-districts.csv\")"
   ]
  },
  {
   "cell_type": "markdown",
   "id": "395cdd08-52a9-4479-af6b-18f60cb32cb0",
   "metadata": {},
   "source": [
    "# Load first few rows"
   ]
  },
  {
   "cell_type": "code",
   "execution_count": 23,
   "id": "f75ce53b-81de-434a-b363-88ece4e570b2",
   "metadata": {},
   "outputs": [
    {
     "data": {
      "text/html": [
       "<div>\n",
       "<style scoped>\n",
       "    .dataframe tbody tr th:only-of-type {\n",
       "        vertical-align: middle;\n",
       "    }\n",
       "\n",
       "    .dataframe tbody tr th {\n",
       "        vertical-align: top;\n",
       "    }\n",
       "\n",
       "    .dataframe thead th {\n",
       "        text-align: right;\n",
       "    }\n",
       "</style>\n",
       "<table border=\"1\" class=\"dataframe\">\n",
       "  <thead>\n",
       "    <tr style=\"text-align: right;\">\n",
       "      <th></th>\n",
       "      <th>District Name</th>\n",
       "      <th>District Code</th>\n",
       "      <th>Administrative Division</th>\n",
       "      <th>Headquarters</th>\n",
       "      <th>Number of Talukas</th>\n",
       "      <th>Area (in sq. km)</th>\n",
       "      <th>Population (Census 2011)</th>\n",
       "      <th>Population Density (per sq. km)</th>\n",
       "      <th>Sex Ratio</th>\n",
       "      <th>Literacy Rate (%)</th>\n",
       "      <th>Urban Population (%)</th>\n",
       "      <th>Formation Date</th>\n",
       "      <th>Geographical Coordinates (Latitude and Longitude)</th>\n",
       "      <th>Major River(s)</th>\n",
       "      <th>Major Crop(s)</th>\n",
       "      <th>Key Industries/Economy</th>\n",
       "      <th>Tourist Attractions</th>\n",
       "    </tr>\n",
       "  </thead>\n",
       "  <tbody>\n",
       "    <tr>\n",
       "      <th>0</th>\n",
       "      <td>Pune</td>\n",
       "      <td>PU</td>\n",
       "      <td>Pune Division</td>\n",
       "      <td>Pune</td>\n",
       "      <td>14</td>\n",
       "      <td>15643</td>\n",
       "      <td>9429408</td>\n",
       "      <td>603</td>\n",
       "      <td>915</td>\n",
       "      <td>86.15</td>\n",
       "      <td>60.5</td>\n",
       "      <td>1 May 1960</td>\n",
       "      <td>18.52° N, 73.85° E</td>\n",
       "      <td>Bhima, Mula, Mutha, Indrayani</td>\n",
       "      <td>Sugarcane, Jowar, Bajra, Grapes, Onions</td>\n",
       "      <td>IT &amp; ITeS, Automotive, Manufacturing, Educatio...</td>\n",
       "      <td>Shaniwar Wada, Aga Khan Palace, Sinhagad Fort,...</td>\n",
       "    </tr>\n",
       "    <tr>\n",
       "      <th>1</th>\n",
       "      <td>Satara</td>\n",
       "      <td>ST</td>\n",
       "      <td>Pune Division</td>\n",
       "      <td>Satara</td>\n",
       "      <td>11</td>\n",
       "      <td>10480</td>\n",
       "      <td>3003741</td>\n",
       "      <td>287</td>\n",
       "      <td>988</td>\n",
       "      <td>82.87</td>\n",
       "      <td>21.9</td>\n",
       "      <td>1 May 1960</td>\n",
       "      <td>17.68° N, 74.01° E</td>\n",
       "      <td>Krishna, Koyna, Venna</td>\n",
       "      <td>Sugarcane, Jowar, Soybean, Turmeric</td>\n",
       "      <td>Agriculture, Wind Power, Sugar Factories, Tourism</td>\n",
       "      <td>Kaas Plateau, Mahabaleshwar, Panchgani, Thoseg...</td>\n",
       "    </tr>\n",
       "    <tr>\n",
       "      <th>2</th>\n",
       "      <td>Sangli</td>\n",
       "      <td>SN</td>\n",
       "      <td>Pune Division</td>\n",
       "      <td>Sangli</td>\n",
       "      <td>10</td>\n",
       "      <td>8572</td>\n",
       "      <td>2822143</td>\n",
       "      <td>329</td>\n",
       "      <td>966</td>\n",
       "      <td>81.48</td>\n",
       "      <td>25.5</td>\n",
       "      <td>1 May 1960</td>\n",
       "      <td>16.85° N, 74.58° E</td>\n",
       "      <td>Krishna, Warana</td>\n",
       "      <td>Sugarcane, Grapes, Turmeric, Jowar</td>\n",
       "      <td>Sugar Production, Turmeric Processing, Textile...</td>\n",
       "      <td>Sagareshwar Wildlife Sanctuary, Chandoli Natio...</td>\n",
       "    </tr>\n",
       "    <tr>\n",
       "      <th>3</th>\n",
       "      <td>Solapur</td>\n",
       "      <td>SO</td>\n",
       "      <td>Pune Division</td>\n",
       "      <td>Solapur</td>\n",
       "      <td>11</td>\n",
       "      <td>14895</td>\n",
       "      <td>4317756</td>\n",
       "      <td>290</td>\n",
       "      <td>938</td>\n",
       "      <td>77.02</td>\n",
       "      <td>32.4</td>\n",
       "      <td>1 May 1960</td>\n",
       "      <td>17.68° N, 75.90° E</td>\n",
       "      <td>Bhima, Sina, Man</td>\n",
       "      <td>Jowar, Sugarcane, Pomegranate, Pulses</td>\n",
       "      <td>Textiles (Chaddars), Sugar Factories, Beedi In...</td>\n",
       "      <td>Siddheshwar Temple, Akkalkot Swami Samarth Mah...</td>\n",
       "    </tr>\n",
       "    <tr>\n",
       "      <th>4</th>\n",
       "      <td>Kolhapur</td>\n",
       "      <td>KO</td>\n",
       "      <td>Pune Division</td>\n",
       "      <td>Kolhapur</td>\n",
       "      <td>12</td>\n",
       "      <td>7685</td>\n",
       "      <td>3876001</td>\n",
       "      <td>504</td>\n",
       "      <td>957</td>\n",
       "      <td>81.51</td>\n",
       "      <td>31.7</td>\n",
       "      <td>1 May 1960</td>\n",
       "      <td>16.70° N, 74.24° E</td>\n",
       "      <td>Panchganga, Krishna, Dudhganga</td>\n",
       "      <td>Sugarcane, Rice, Soybean, Jaggery</td>\n",
       "      <td>Sugar Mills, Foundries, Textiles, Kolhapuri Ch...</td>\n",
       "      <td>Mahalakshmi Temple, Panhala Fort, Jyotiba Temp...</td>\n",
       "    </tr>\n",
       "  </tbody>\n",
       "</table>\n",
       "</div>"
      ],
      "text/plain": [
       "  District Name District Code Administrative Division Headquarters  Number of Talukas  Area (in sq. km)  \\\n",
       "0          Pune            PU           Pune Division         Pune                 14             15643   \n",
       "1        Satara            ST           Pune Division       Satara                 11             10480   \n",
       "2        Sangli            SN           Pune Division       Sangli                 10              8572   \n",
       "3       Solapur            SO           Pune Division      Solapur                 11             14895   \n",
       "4      Kolhapur            KO           Pune Division     Kolhapur                 12              7685   \n",
       "\n",
       "   Population (Census 2011)  Population Density (per sq. km)  Sex Ratio  Literacy Rate (%)  Urban Population (%)  \\\n",
       "0                   9429408                              603        915              86.15                  60.5   \n",
       "1                   3003741                              287        988              82.87                  21.9   \n",
       "2                   2822143                              329        966              81.48                  25.5   \n",
       "3                   4317756                              290        938              77.02                  32.4   \n",
       "4                   3876001                              504        957              81.51                  31.7   \n",
       "\n",
       "  Formation Date Geographical Coordinates (Latitude and Longitude)                  Major River(s)  \\\n",
       "0     1 May 1960                                18.52° N, 73.85° E   Bhima, Mula, Mutha, Indrayani   \n",
       "1     1 May 1960                                17.68° N, 74.01° E           Krishna, Koyna, Venna   \n",
       "2     1 May 1960                                16.85° N, 74.58° E                 Krishna, Warana   \n",
       "3     1 May 1960                                17.68° N, 75.90° E                Bhima, Sina, Man   \n",
       "4     1 May 1960                                16.70° N, 74.24° E  Panchganga, Krishna, Dudhganga   \n",
       "\n",
       "                             Major Crop(s)                             Key Industries/Economy  \\\n",
       "0  Sugarcane, Jowar, Bajra, Grapes, Onions  IT & ITeS, Automotive, Manufacturing, Educatio...   \n",
       "1      Sugarcane, Jowar, Soybean, Turmeric  Agriculture, Wind Power, Sugar Factories, Tourism   \n",
       "2       Sugarcane, Grapes, Turmeric, Jowar  Sugar Production, Turmeric Processing, Textile...   \n",
       "3    Jowar, Sugarcane, Pomegranate, Pulses  Textiles (Chaddars), Sugar Factories, Beedi In...   \n",
       "4        Sugarcane, Rice, Soybean, Jaggery  Sugar Mills, Foundries, Textiles, Kolhapuri Ch...   \n",
       "\n",
       "                                 Tourist Attractions  \n",
       "0  Shaniwar Wada, Aga Khan Palace, Sinhagad Fort,...  \n",
       "1  Kaas Plateau, Mahabaleshwar, Panchgani, Thoseg...  \n",
       "2  Sagareshwar Wildlife Sanctuary, Chandoli Natio...  \n",
       "3  Siddheshwar Temple, Akkalkot Swami Samarth Mah...  \n",
       "4  Mahalakshmi Temple, Panhala Fort, Jyotiba Temp...  "
      ]
     },
     "execution_count": 23,
     "metadata": {},
     "output_type": "execute_result"
    }
   ],
   "source": [
    "df.head()"
   ]
  },
  {
   "cell_type": "markdown",
   "id": "b75e5e33-2823-41e1-96a7-8a6a1080354b",
   "metadata": {},
   "source": [
    "# Load last few rows"
   ]
  },
  {
   "cell_type": "code",
   "execution_count": 24,
   "id": "0aa3a971-815b-47be-80a0-84c9da9b3597",
   "metadata": {},
   "outputs": [
    {
     "data": {
      "text/html": [
       "<div>\n",
       "<style scoped>\n",
       "    .dataframe tbody tr th:only-of-type {\n",
       "        vertical-align: middle;\n",
       "    }\n",
       "\n",
       "    .dataframe tbody tr th {\n",
       "        vertical-align: top;\n",
       "    }\n",
       "\n",
       "    .dataframe thead th {\n",
       "        text-align: right;\n",
       "    }\n",
       "</style>\n",
       "<table border=\"1\" class=\"dataframe\">\n",
       "  <thead>\n",
       "    <tr style=\"text-align: right;\">\n",
       "      <th></th>\n",
       "      <th>District Name</th>\n",
       "      <th>District Code</th>\n",
       "      <th>Administrative Division</th>\n",
       "      <th>Headquarters</th>\n",
       "      <th>Number of Talukas</th>\n",
       "      <th>Area (in sq. km)</th>\n",
       "      <th>Population (Census 2011)</th>\n",
       "      <th>Population Density (per sq. km)</th>\n",
       "      <th>Sex Ratio</th>\n",
       "      <th>Literacy Rate (%)</th>\n",
       "      <th>Urban Population (%)</th>\n",
       "      <th>Formation Date</th>\n",
       "      <th>Geographical Coordinates (Latitude and Longitude)</th>\n",
       "      <th>Major River(s)</th>\n",
       "      <th>Major Crop(s)</th>\n",
       "      <th>Key Industries/Economy</th>\n",
       "      <th>Tourist Attractions</th>\n",
       "    </tr>\n",
       "  </thead>\n",
       "  <tbody>\n",
       "    <tr>\n",
       "      <th>31</th>\n",
       "      <td>Amravati</td>\n",
       "      <td>AM</td>\n",
       "      <td>Amravati Division</td>\n",
       "      <td>Amravati</td>\n",
       "      <td>14</td>\n",
       "      <td>12210</td>\n",
       "      <td>2888445</td>\n",
       "      <td>237</td>\n",
       "      <td>951</td>\n",
       "      <td>87.38</td>\n",
       "      <td>35.9</td>\n",
       "      <td>1 May 1960</td>\n",
       "      <td>20.93° N, 77.75° E</td>\n",
       "      <td>Tapi, Purna, Wardha</td>\n",
       "      <td>Cotton, Soybean, Tur (Pigeon Pea), Oranges</td>\n",
       "      <td>Textile Mills, Cotton Ginning, Food Processing...</td>\n",
       "      <td>Melghat Tiger Reserve, Chikhaldara Hill Statio...</td>\n",
       "    </tr>\n",
       "    <tr>\n",
       "      <th>32</th>\n",
       "      <td>Akola</td>\n",
       "      <td>AK</td>\n",
       "      <td>Amravati Division</td>\n",
       "      <td>Akola</td>\n",
       "      <td>7</td>\n",
       "      <td>5676</td>\n",
       "      <td>1813906</td>\n",
       "      <td>319</td>\n",
       "      <td>946</td>\n",
       "      <td>88.05</td>\n",
       "      <td>44.0</td>\n",
       "      <td>1 May 1960</td>\n",
       "      <td>20.70° N, 77.07° E</td>\n",
       "      <td>Purna, Katepurna, Uma</td>\n",
       "      <td>Cotton, Jowar, Soybean, Pulses</td>\n",
       "      <td>Cotton &amp; Textile Mills ('Cotton City'), Dal Mi...</td>\n",
       "      <td>Narnala Fort, Akola Fort, Balapur Fort, Katepu...</td>\n",
       "    </tr>\n",
       "    <tr>\n",
       "      <th>33</th>\n",
       "      <td>Yavatmal</td>\n",
       "      <td>YTL</td>\n",
       "      <td>Amravati Division</td>\n",
       "      <td>Yavatmal</td>\n",
       "      <td>16</td>\n",
       "      <td>13582</td>\n",
       "      <td>2772348</td>\n",
       "      <td>204</td>\n",
       "      <td>952</td>\n",
       "      <td>82.82</td>\n",
       "      <td>21.6</td>\n",
       "      <td>1 May 1960</td>\n",
       "      <td>20.38° N, 78.13° E</td>\n",
       "      <td>Penganga, Wardha</td>\n",
       "      <td>Cotton, Soybean, Pulses</td>\n",
       "      <td>Cotton Ginning &amp; Pressing, Cement Pipes, Coal ...</td>\n",
       "      <td>Painganga Wildlife Sanctuary, Tipeshwar Wildli...</td>\n",
       "    </tr>\n",
       "    <tr>\n",
       "      <th>34</th>\n",
       "      <td>Buldhana</td>\n",
       "      <td>BU</td>\n",
       "      <td>Amravati Division</td>\n",
       "      <td>Buldhana</td>\n",
       "      <td>13</td>\n",
       "      <td>9681</td>\n",
       "      <td>2586258</td>\n",
       "      <td>267</td>\n",
       "      <td>934</td>\n",
       "      <td>83.40</td>\n",
       "      <td>21.2</td>\n",
       "      <td>1 May 1960</td>\n",
       "      <td>20.53° N, 76.18° E</td>\n",
       "      <td>Purna, Penganga, Nalganga</td>\n",
       "      <td>Cotton, Jowar, Maize, Soybean</td>\n",
       "      <td>Agriculture, Cotton Ginning, Seed companies</td>\n",
       "      <td>Lonar Crater Lake (National Geo-heritage Monum...</td>\n",
       "    </tr>\n",
       "    <tr>\n",
       "      <th>35</th>\n",
       "      <td>Washim</td>\n",
       "      <td>WS</td>\n",
       "      <td>Amravati Division</td>\n",
       "      <td>Washim</td>\n",
       "      <td>6</td>\n",
       "      <td>5150</td>\n",
       "      <td>1197160</td>\n",
       "      <td>232</td>\n",
       "      <td>930</td>\n",
       "      <td>83.25</td>\n",
       "      <td>17.7</td>\n",
       "      <td>1 July 1998</td>\n",
       "      <td>20.10° N, 77.15° E</td>\n",
       "      <td>Penganga</td>\n",
       "      <td>Soybean, Cotton, Tur, Jowar</td>\n",
       "      <td>Agriculture, Soybean Processing, Dal Mills</td>\n",
       "      <td>Shri Balaji Mandir (Washim), Padmatirtha, Anta...</td>\n",
       "    </tr>\n",
       "  </tbody>\n",
       "</table>\n",
       "</div>"
      ],
      "text/plain": [
       "   District Name District Code Administrative Division Headquarters  Number of Talukas  Area (in sq. km)  \\\n",
       "31      Amravati            AM       Amravati Division     Amravati                 14             12210   \n",
       "32         Akola            AK       Amravati Division        Akola                  7              5676   \n",
       "33      Yavatmal           YTL       Amravati Division     Yavatmal                 16             13582   \n",
       "34      Buldhana            BU       Amravati Division     Buldhana                 13              9681   \n",
       "35        Washim            WS       Amravati Division       Washim                  6              5150   \n",
       "\n",
       "    Population (Census 2011)  Population Density (per sq. km)  Sex Ratio  Literacy Rate (%)  Urban Population (%)  \\\n",
       "31                   2888445                              237        951              87.38                  35.9   \n",
       "32                   1813906                              319        946              88.05                  44.0   \n",
       "33                   2772348                              204        952              82.82                  21.6   \n",
       "34                   2586258                              267        934              83.40                  21.2   \n",
       "35                   1197160                              232        930              83.25                  17.7   \n",
       "\n",
       "   Formation Date Geographical Coordinates (Latitude and Longitude)             Major River(s)  \\\n",
       "31     1 May 1960                                20.93° N, 77.75° E        Tapi, Purna, Wardha   \n",
       "32     1 May 1960                                20.70° N, 77.07° E      Purna, Katepurna, Uma   \n",
       "33     1 May 1960                                20.38° N, 78.13° E           Penganga, Wardha   \n",
       "34     1 May 1960                                20.53° N, 76.18° E  Purna, Penganga, Nalganga   \n",
       "35    1 July 1998                                20.10° N, 77.15° E                   Penganga   \n",
       "\n",
       "                                 Major Crop(s)                             Key Industries/Economy  \\\n",
       "31  Cotton, Soybean, Tur (Pigeon Pea), Oranges  Textile Mills, Cotton Ginning, Food Processing...   \n",
       "32              Cotton, Jowar, Soybean, Pulses  Cotton & Textile Mills ('Cotton City'), Dal Mi...   \n",
       "33                     Cotton, Soybean, Pulses  Cotton Ginning & Pressing, Cement Pipes, Coal ...   \n",
       "34               Cotton, Jowar, Maize, Soybean        Agriculture, Cotton Ginning, Seed companies   \n",
       "35                 Soybean, Cotton, Tur, Jowar         Agriculture, Soybean Processing, Dal Mills   \n",
       "\n",
       "                                  Tourist Attractions  \n",
       "31  Melghat Tiger Reserve, Chikhaldara Hill Statio...  \n",
       "32  Narnala Fort, Akola Fort, Balapur Fort, Katepu...  \n",
       "33  Painganga Wildlife Sanctuary, Tipeshwar Wildli...  \n",
       "34  Lonar Crater Lake (National Geo-heritage Monum...  \n",
       "35  Shri Balaji Mandir (Washim), Padmatirtha, Anta...  "
      ]
     },
     "execution_count": 24,
     "metadata": {},
     "output_type": "execute_result"
    }
   ],
   "source": [
    "df.tail()"
   ]
  },
  {
   "cell_type": "markdown",
   "id": "e32456d8-1361-4068-bef0-2fe5917fa572",
   "metadata": {},
   "source": [
    "# Structure & type"
   ]
  },
  {
   "cell_type": "code",
   "execution_count": 25,
   "id": "7355921c-7feb-4da4-abd5-90898d5f4a55",
   "metadata": {},
   "outputs": [
    {
     "name": "stdout",
     "output_type": "stream",
     "text": [
      "Columns: ['District Name', 'District Code', 'Administrative Division', 'Headquarters', 'Number of Talukas', 'Area (in sq. km)', 'Population (Census 2011)', 'Population Density (per sq. km)', 'Sex Ratio', 'Literacy Rate (%)', 'Urban Population (%)', 'Formation Date', 'Geographical Coordinates (Latitude and Longitude)', 'Major River(s)', 'Major Crop(s)', 'Key Industries/Economy', 'Tourist Attractions']\n",
      "\n",
      "DTypes:\n",
      " District Name                                         object\n",
      "District Code                                         object\n",
      "Administrative Division                               object\n",
      "Headquarters                                          object\n",
      "Number of Talukas                                      int64\n",
      "Area (in sq. km)                                       int64\n",
      "Population (Census 2011)                               int64\n",
      "Population Density (per sq. km)                        int64\n",
      "Sex Ratio                                              int64\n",
      "Literacy Rate (%)                                    float64\n",
      "Urban Population (%)                                 float64\n",
      "Formation Date                                        object\n",
      "Geographical Coordinates (Latitude and Longitude)     object\n",
      "Major River(s)                                        object\n",
      "Major Crop(s)                                         object\n",
      "Key Industries/Economy                                object\n",
      "Tourist Attractions                                   object\n",
      "dtype: object\n",
      "\n",
      "Info:\n",
      "<class 'pandas.core.frame.DataFrame'>\n",
      "RangeIndex: 36 entries, 0 to 35\n",
      "Data columns (total 17 columns):\n",
      " #   Column                                             Non-Null Count  Dtype  \n",
      "---  ------                                             --------------  -----  \n",
      " 0   District Name                                      36 non-null     object \n",
      " 1   District Code                                      36 non-null     object \n",
      " 2   Administrative Division                            36 non-null     object \n",
      " 3   Headquarters                                       36 non-null     object \n",
      " 4   Number of Talukas                                  36 non-null     int64  \n",
      " 5   Area (in sq. km)                                   36 non-null     int64  \n",
      " 6   Population (Census 2011)                           36 non-null     int64  \n",
      " 7   Population Density (per sq. km)                    36 non-null     int64  \n",
      " 8   Sex Ratio                                          36 non-null     int64  \n",
      " 9   Literacy Rate (%)                                  36 non-null     float64\n",
      " 10  Urban Population (%)                               36 non-null     float64\n",
      " 11  Formation Date                                     36 non-null     object \n",
      " 12  Geographical Coordinates (Latitude and Longitude)  36 non-null     object \n",
      " 13  Major River(s)                                     36 non-null     object \n",
      " 14  Major Crop(s)                                      34 non-null     object \n",
      " 15  Key Industries/Economy                             36 non-null     object \n",
      " 16  Tourist Attractions                                36 non-null     object \n",
      "dtypes: float64(2), int64(5), object(10)\n",
      "memory usage: 4.9+ KB\n"
     ]
    }
   ],
   "source": [
    "print(\"Columns:\", list(df.columns))\n",
    "print(\"\\nDTypes:\\n\", df.dtypes)\n",
    "print(\"\\nInfo:\")\n",
    "df.info()\n"
   ]
  },
  {
   "cell_type": "markdown",
   "id": "b4fc234c-9671-42f8-a4a9-4a86ab0ac68c",
   "metadata": {},
   "source": [
    "# Missing Values & Duplicates"
   ]
  },
  {
   "cell_type": "code",
   "execution_count": 26,
   "id": "f8b004a3-9953-4bdb-a42b-006e17434628",
   "metadata": {},
   "outputs": [
    {
     "name": "stdout",
     "output_type": "stream",
     "text": [
      "\n",
      "Missing values per column:\n",
      "District Name                                        0\n",
      "District Code                                        0\n",
      "Administrative Division                              0\n",
      "Headquarters                                         0\n",
      "Number of Talukas                                    0\n",
      "Area (in sq. km)                                     0\n",
      "Population (Census 2011)                             0\n",
      "Population Density (per sq. km)                      0\n",
      "Sex Ratio                                            0\n",
      "Literacy Rate (%)                                    0\n",
      "Urban Population (%)                                 0\n",
      "Formation Date                                       0\n",
      "Geographical Coordinates (Latitude and Longitude)    0\n",
      "Major River(s)                                       0\n",
      "Major Crop(s)                                        2\n",
      "Key Industries/Economy                               0\n",
      "Tourist Attractions                                  0\n",
      "dtype: int64\n",
      "\n",
      "Duplicate rows: 0\n"
     ]
    }
   ],
   "source": [
    "print(\"\\nMissing values per column:\")\n",
    "print(df.isna().sum())\n",
    "\n",
    "# Duplicates by full row\n",
    "print(\"\\nDuplicate rows:\", df.duplicated().sum())\n",
    "\n"
   ]
  },
  {
   "cell_type": "markdown",
   "id": "e10bf875-7e9e-45b7-99a0-e8dba1346b15",
   "metadata": {},
   "source": [
    "# Unique values"
   ]
  },
  {
   "cell_type": "code",
   "execution_count": 27,
   "id": "5940981f-889b-49c7-b639-90c066d6840b",
   "metadata": {},
   "outputs": [
    {
     "name": "stdout",
     "output_type": "stream",
     "text": [
      "Unique District Codes: 36  / rows: 36\n"
     ]
    }
   ],
   "source": [
    "# If there's a unique identifier, check it (District Code looks like one)\n",
    "if \"District Code\" in df.columns:\n",
    "    nuniq = df[\"District Code\"].nunique()\n",
    "    print(\"Unique District Codes:\", nuniq, \" / rows:\", len(df))"
   ]
  },
  {
   "cell_type": "markdown",
   "id": "17fd0d3e-8c7d-4afb-99c3-d3e0a650846b",
   "metadata": {},
   "source": [
    "# Summary Statistics(Numeric / Categorical)"
   ]
  },
  {
   "cell_type": "code",
   "execution_count": 28,
   "id": "17348a17-3c83-46a9-9db9-1c52edc79681",
   "metadata": {},
   "outputs": [
    {
     "name": "stdout",
     "output_type": "stream",
     "text": [
      "\n",
      "Numeric summary:\n"
     ]
    },
    {
     "data": {
      "text/html": [
       "<div>\n",
       "<style scoped>\n",
       "    .dataframe tbody tr th:only-of-type {\n",
       "        vertical-align: middle;\n",
       "    }\n",
       "\n",
       "    .dataframe tbody tr th {\n",
       "        vertical-align: top;\n",
       "    }\n",
       "\n",
       "    .dataframe thead th {\n",
       "        text-align: right;\n",
       "    }\n",
       "</style>\n",
       "<table border=\"1\" class=\"dataframe\">\n",
       "  <thead>\n",
       "    <tr style=\"text-align: right;\">\n",
       "      <th></th>\n",
       "      <th>count</th>\n",
       "      <th>mean</th>\n",
       "      <th>std</th>\n",
       "      <th>min</th>\n",
       "      <th>25%</th>\n",
       "      <th>50%</th>\n",
       "      <th>75%</th>\n",
       "      <th>max</th>\n",
       "    </tr>\n",
       "  </thead>\n",
       "  <tbody>\n",
       "    <tr>\n",
       "      <th>Number of Talukas</th>\n",
       "      <td>36.0</td>\n",
       "      <td>9.944444e+00</td>\n",
       "      <td>3.970926e+00</td>\n",
       "      <td>0.00</td>\n",
       "      <td>7.75</td>\n",
       "      <td>9.50</td>\n",
       "      <td>14.000</td>\n",
       "      <td>16.00</td>\n",
       "    </tr>\n",
       "    <tr>\n",
       "      <th>Area (in sq. km)</th>\n",
       "      <td>36.0</td>\n",
       "      <td>8.560667e+03</td>\n",
       "      <td>4.095967e+03</td>\n",
       "      <td>157.00</td>\n",
       "      <td>5614.75</td>\n",
       "      <td>7701.50</td>\n",
       "      <td>10880.500</td>\n",
       "      <td>17048.00</td>\n",
       "    </tr>\n",
       "    <tr>\n",
       "      <th>Population (Census 2011)</th>\n",
       "      <td>36.0</td>\n",
       "      <td>3.119993e+06</td>\n",
       "      <td>2.155514e+06</td>\n",
       "      <td>849651.00</td>\n",
       "      <td>1655255.75</td>\n",
       "      <td>2610229.00</td>\n",
       "      <td>3744961.750</td>\n",
       "      <td>9429408.00</td>\n",
       "    </tr>\n",
       "    <tr>\n",
       "      <th>Population Density (per sq. km)</th>\n",
       "      <td>36.0</td>\n",
       "      <td>1.436944e+03</td>\n",
       "      <td>4.569022e+03</td>\n",
       "      <td>74.00</td>\n",
       "      <td>240.75</td>\n",
       "      <td>286.00</td>\n",
       "      <td>366.500</td>\n",
       "      <td>20980.00</td>\n",
       "    </tr>\n",
       "    <tr>\n",
       "      <th>Sex Ratio</th>\n",
       "      <td>36.0</td>\n",
       "      <td>9.473333e+02</td>\n",
       "      <td>4.674673e+01</td>\n",
       "      <td>832.00</td>\n",
       "      <td>929.50</td>\n",
       "      <td>944.50</td>\n",
       "      <td>959.500</td>\n",
       "      <td>1122.00</td>\n",
       "    </tr>\n",
       "    <tr>\n",
       "      <th>Literacy Rate (%)</th>\n",
       "      <td>36.0</td>\n",
       "      <td>8.086417e+01</td>\n",
       "      <td>5.596462e+00</td>\n",
       "      <td>64.38</td>\n",
       "      <td>77.20</td>\n",
       "      <td>81.91</td>\n",
       "      <td>84.635</td>\n",
       "      <td>89.91</td>\n",
       "    </tr>\n",
       "    <tr>\n",
       "      <th>Urban Population (%)</th>\n",
       "      <td>36.0</td>\n",
       "      <td>3.391667e+01</td>\n",
       "      <td>2.223281e+01</td>\n",
       "      <td>11.00</td>\n",
       "      <td>19.45</td>\n",
       "      <td>26.35</td>\n",
       "      <td>37.550</td>\n",
       "      <td>100.00</td>\n",
       "    </tr>\n",
       "  </tbody>\n",
       "</table>\n",
       "</div>"
      ],
      "text/plain": [
       "                                 count          mean           std        min         25%         50%          75%  \\\n",
       "Number of Talukas                 36.0  9.944444e+00  3.970926e+00       0.00        7.75        9.50       14.000   \n",
       "Area (in sq. km)                  36.0  8.560667e+03  4.095967e+03     157.00     5614.75     7701.50    10880.500   \n",
       "Population (Census 2011)          36.0  3.119993e+06  2.155514e+06  849651.00  1655255.75  2610229.00  3744961.750   \n",
       "Population Density (per sq. km)   36.0  1.436944e+03  4.569022e+03      74.00      240.75      286.00      366.500   \n",
       "Sex Ratio                         36.0  9.473333e+02  4.674673e+01     832.00      929.50      944.50      959.500   \n",
       "Literacy Rate (%)                 36.0  8.086417e+01  5.596462e+00      64.38       77.20       81.91       84.635   \n",
       "Urban Population (%)              36.0  3.391667e+01  2.223281e+01      11.00       19.45       26.35       37.550   \n",
       "\n",
       "                                        max  \n",
       "Number of Talukas                     16.00  \n",
       "Area (in sq. km)                   17048.00  \n",
       "Population (Census 2011)         9429408.00  \n",
       "Population Density (per sq. km)    20980.00  \n",
       "Sex Ratio                           1122.00  \n",
       "Literacy Rate (%)                     89.91  \n",
       "Urban Population (%)                 100.00  "
      ]
     },
     "metadata": {},
     "output_type": "display_data"
    },
    {
     "name": "stdout",
     "output_type": "stream",
     "text": [
      "\n",
      "Categorical summary:\n"
     ]
    },
    {
     "data": {
      "text/html": [
       "<div>\n",
       "<style scoped>\n",
       "    .dataframe tbody tr th:only-of-type {\n",
       "        vertical-align: middle;\n",
       "    }\n",
       "\n",
       "    .dataframe tbody tr th {\n",
       "        vertical-align: top;\n",
       "    }\n",
       "\n",
       "    .dataframe thead th {\n",
       "        text-align: right;\n",
       "    }\n",
       "</style>\n",
       "<table border=\"1\" class=\"dataframe\">\n",
       "  <thead>\n",
       "    <tr style=\"text-align: right;\">\n",
       "      <th></th>\n",
       "      <th>count</th>\n",
       "      <th>unique</th>\n",
       "      <th>top</th>\n",
       "      <th>freq</th>\n",
       "    </tr>\n",
       "  </thead>\n",
       "  <tbody>\n",
       "    <tr>\n",
       "      <th>District Name</th>\n",
       "      <td>36</td>\n",
       "      <td>36</td>\n",
       "      <td>Pune</td>\n",
       "      <td>1</td>\n",
       "    </tr>\n",
       "    <tr>\n",
       "      <th>District Code</th>\n",
       "      <td>36</td>\n",
       "      <td>36</td>\n",
       "      <td>PU</td>\n",
       "      <td>1</td>\n",
       "    </tr>\n",
       "    <tr>\n",
       "      <th>Administrative Division</th>\n",
       "      <td>36</td>\n",
       "      <td>6</td>\n",
       "      <td>Chhatrapati Sambhaji Nagar Division</td>\n",
       "      <td>8</td>\n",
       "    </tr>\n",
       "    <tr>\n",
       "      <th>Headquarters</th>\n",
       "      <td>36</td>\n",
       "      <td>36</td>\n",
       "      <td>Pune</td>\n",
       "      <td>1</td>\n",
       "    </tr>\n",
       "    <tr>\n",
       "      <th>Formation Date</th>\n",
       "      <td>36</td>\n",
       "      <td>8</td>\n",
       "      <td>1 May 1960</td>\n",
       "      <td>26</td>\n",
       "    </tr>\n",
       "    <tr>\n",
       "      <th>Geographical Coordinates (Latitude and Longitude)</th>\n",
       "      <td>36</td>\n",
       "      <td>36</td>\n",
       "      <td>18.52° N, 73.85° E</td>\n",
       "      <td>1</td>\n",
       "    </tr>\n",
       "    <tr>\n",
       "      <th>Major River(s)</th>\n",
       "      <td>36</td>\n",
       "      <td>35</td>\n",
       "      <td>Godavari, Purna, Dudhna</td>\n",
       "      <td>2</td>\n",
       "    </tr>\n",
       "    <tr>\n",
       "      <th>Major Crop(s)</th>\n",
       "      <td>34</td>\n",
       "      <td>34</td>\n",
       "      <td>Sugarcane, Jowar, Bajra, Grapes, Onions</td>\n",
       "      <td>1</td>\n",
       "    </tr>\n",
       "    <tr>\n",
       "      <th>Key Industries/Economy</th>\n",
       "      <td>36</td>\n",
       "      <td>36</td>\n",
       "      <td>IT &amp; ITeS, Automotive, Manufacturing, Educatio...</td>\n",
       "      <td>1</td>\n",
       "    </tr>\n",
       "    <tr>\n",
       "      <th>Tourist Attractions</th>\n",
       "      <td>36</td>\n",
       "      <td>36</td>\n",
       "      <td>Shaniwar Wada, Aga Khan Palace, Sinhagad Fort,...</td>\n",
       "      <td>1</td>\n",
       "    </tr>\n",
       "  </tbody>\n",
       "</table>\n",
       "</div>"
      ],
      "text/plain": [
       "                                                  count unique                                                top freq\n",
       "District Name                                        36     36                                               Pune    1\n",
       "District Code                                        36     36                                                 PU    1\n",
       "Administrative Division                              36      6                Chhatrapati Sambhaji Nagar Division    8\n",
       "Headquarters                                         36     36                                               Pune    1\n",
       "Formation Date                                       36      8                                         1 May 1960   26\n",
       "Geographical Coordinates (Latitude and Longitude)    36     36                                 18.52° N, 73.85° E    1\n",
       "Major River(s)                                       36     35                            Godavari, Purna, Dudhna    2\n",
       "Major Crop(s)                                        34     34            Sugarcane, Jowar, Bajra, Grapes, Onions    1\n",
       "Key Industries/Economy                               36     36  IT & ITeS, Automotive, Manufacturing, Educatio...    1\n",
       "Tourist Attractions                                  36     36  Shaniwar Wada, Aga Khan Palace, Sinhagad Fort,...    1"
      ]
     },
     "metadata": {},
     "output_type": "display_data"
    }
   ],
   "source": [
    "print(\"\\nNumeric summary:\")\n",
    "display(df.describe().T)\n",
    "\n",
    "print(\"\\nCategorical summary:\")\n",
    "display(df.describe(include=\"object\").T)"
   ]
  },
  {
   "cell_type": "markdown",
   "id": "0c28855f-524a-449b-85b5-71716672db98",
   "metadata": {},
   "source": [
    "# Univariate distributions (numeric)"
   ]
  },
  {
   "cell_type": "code",
   "execution_count": 29,
   "id": "ad46ee38-7e64-4389-8207-3c0fa934ec86",
   "metadata": {},
   "outputs": [],
   "source": [
    "import os\n",
    "PLOT_DIR = \"eda_plots\"\n",
    "os.makedirs(PLOT_DIR, exist_ok=True)\n"
   ]
  },
  {
   "cell_type": "code",
   "execution_count": 30,
   "id": "1f691a4e-f020-4703-8d5e-0b9fb39de9bd",
   "metadata": {},
   "outputs": [
    {
     "data": {
      "image/png": "[encoded data removed]",
      "text/plain": [
       "<Figure size 600x400 with 1 Axes>"
      ]
     },
     "metadata": {},
     "output_type": "display_data"
    },
    {
     "data": {
      "image/png": "[encoded data removed]",
      "text/plain": [
       "<Figure size 600x280 with 1 Axes>"
      ]
     },
     "metadata": {},
     "output_type": "display_data"
    },
    {
     "data": {
      "image/png": "[encoded data removed]",
      "text/plain": [
       "<Figure size 600x400 with 1 Axes>"
      ]
     },
     "metadata": {},
     "output_type": "display_data"
    },
    {
     "data": {
      "image/png": "[encoded data removed]",
      "text/plain": [
       "<Figure size 600x280 with 1 Axes>"
      ]
     },
     "metadata": {},
     "output_type": "display_data"
    },
    {
     "data": {
      "image/png": "[encoded data removed]",
      "text/plain": [
       "<Figure size 600x400 with 1 Axes>"
      ]
     },
     "metadata": {},
     "output_type": "display_data"
    },
    {
     "data": {
      "image/png": "[encoded data removed]",
      "text/plain": [
       "<Figure size 600x280 with 1 Axes>"
      ]
     },
     "metadata": {},
     "output_type": "display_data"
    },
    {
     "data": {
      "image/png": "[encoded data removed]",
      "text/plain": [
       "<Figure size 600x400 with 1 Axes>"
      ]
     },
     "metadata": {},
     "output_type": "display_data"
    },
    {
     "data": {
      "image/png": "[encoded data removed]",
      "text/plain": [
       "<Figure size 600x280 with 1 Axes>"
      ]
     },
     "metadata": {},
     "output_type": "display_data"
    },
    {
     "data": {
      "image/png": "[encoded data removed]",
      "text/plain": [
       "<Figure size 600x400 with 1 Axes>"
      ]
     },
     "metadata": {},
     "output_type": "display_data"
    },
    {
     "data": {
      "image/png": "[encoded data removed]",
      "text/plain": [
       "<Figure size 600x280 with 1 Axes>"
      ]
     },
     "metadata": {},
     "output_type": "display_data"
    },
    {
     "data": {
      "image/png": "[encoded data removed]",
      "text/plain": [
       "<Figure size 600x400 with 1 Axes>"
      ]
     },
     "metadata": {},
     "output_type": "display_data"
    },
    {
     "data": {
      "image/png": "[encoded data removed]",
      "text/plain": [
       "<Figure size 600x280 with 1 Axes>"
      ]
     },
     "metadata": {},
     "output_type": "display_data"
    },
    {
     "data": {
      "image/png": "[encoded data removed]",
      "text/plain": [
       "<Figure size 600x400 with 1 Axes>"
      ]
     },
     "metadata": {},
     "output_type": "display_data"
    },
    {
     "data": {
      "image/png": "[encoded data removed]",
      "text/plain": [
       "<Figure size 600x280 with 1 Axes>"
      ]
     },
     "metadata": {},
     "output_type": "display_data"
    }
   ],
   "source": [
    "num_cols = df.select_dtypes(include=[np.number]).columns.tolist()\n",
    "\n",
    "for col in num_cols:\n",
    "    # Histogram\n",
    "    plt.figure(figsize=(6,4))\n",
    "    plt.hist(df[col].dropna(), bins=10)\n",
    "    plt.title(f\"Histogram: {col}\")\n",
    "    plt.xlabel(col); plt.ylabel(\"Count\")\n",
    "    plt.tight_layout(); plt.savefig(os.path.join(PLOT_DIR, f\"hist_{col.replace(' ', '_')}.png\"))\n",
    "    plt.show()\n",
    "\n",
    "    # Boxplot\n",
    "    plt.figure(figsize=(6,2.8))\n",
    "    plt.boxplot(df[col].dropna(), vert=False)\n",
    "    plt.title(f\"Boxplot: {col}\")\n",
    "    plt.xlabel(col)\n",
    "    plt.tight_layout(); plt.savefig(os.path.join(PLOT_DIR, f\"box_{col.replace(' ', '_')}.png\"))\n",
    "    plt.show()\n"
   ]
  },
  {
   "cell_type": "markdown",
   "id": "6347c312-6454-485f-90c8-cea63bedd137",
   "metadata": {},
   "source": [
    "# Categorical distributions"
   ]
  },
  {
   "cell_type": "code",
   "execution_count": 31,
   "id": "a4507cc2-c69d-49a0-a3c2-071112b35b4d",
   "metadata": {},
   "outputs": [
    {
     "data": {
      "image/png": "[encoded data removed]",
      "text/plain": [
       "<Figure size 600x400 with 1 Axes>"
      ]
     },
     "metadata": {},
     "output_type": "display_data"
    },
    {
     "data": {
      "image/png": "[encoded data removed]",
      "text/plain": [
       "<Figure size 600x400 with 1 Axes>"
      ]
     },
     "metadata": {},
     "output_type": "display_data"
    }
   ],
   "source": [
    "# Identify categorical columns\n",
    "cat_cols = df.select_dtypes(include=[\"object\"]).columns.tolist()\n",
    "\n",
    "# Plot only low-cardinality categoricals (<=12 unique values)\n",
    "for col in cat_cols:\n",
    "    if df[col].nunique() <= 12:\n",
    "        vc = df[col].value_counts()\n",
    "        plt.figure(figsize=(6,4))\n",
    "        vc.plot(kind=\"bar\")\n",
    "        plt.title(f\"Frequency: {col}\")\n",
    "        plt.xlabel(col)\n",
    "        plt.ylabel(\"Count\")\n",
    "        plt.tight_layout()\n",
    "        plt.show()\n"
   ]
  },
  {
   "cell_type": "markdown",
   "id": "b13581b1-5f7f-48b3-87e8-bed53a8aef18",
   "metadata": {},
   "source": [
    "# Correlation"
   ]
  },
  {
   "cell_type": "code",
   "execution_count": 32,
   "id": "8fccbc7b-f4d7-4ce0-a2a0-81803cd20cdb",
   "metadata": {},
   "outputs": [
    {
     "name": "stdout",
     "output_type": "stream",
     "text": [
      "\n",
      "Pearson correlation:\n"
     ]
    },
    {
     "data": {
      "text/html": [
       "<div>\n",
       "<style scoped>\n",
       "    .dataframe tbody tr th:only-of-type {\n",
       "        vertical-align: middle;\n",
       "    }\n",
       "\n",
       "    .dataframe tbody tr th {\n",
       "        vertical-align: top;\n",
       "    }\n",
       "\n",
       "    .dataframe thead th {\n",
       "        text-align: right;\n",
       "    }\n",
       "</style>\n",
       "<table border=\"1\" class=\"dataframe\">\n",
       "  <thead>\n",
       "    <tr style=\"text-align: right;\">\n",
       "      <th></th>\n",
       "      <th>Number of Talukas</th>\n",
       "      <th>Area (in sq. km)</th>\n",
       "      <th>Population (Census 2011)</th>\n",
       "      <th>Population Density (per sq. km)</th>\n",
       "      <th>Sex Ratio</th>\n",
       "      <th>Literacy Rate (%)</th>\n",
       "      <th>Urban Population (%)</th>\n",
       "    </tr>\n",
       "  </thead>\n",
       "  <tbody>\n",
       "    <tr>\n",
       "      <th>Number of Talukas</th>\n",
       "      <td>1.000000</td>\n",
       "      <td>0.813111</td>\n",
       "      <td>0.156973</td>\n",
       "      <td>-0.521482</td>\n",
       "      <td>0.211124</td>\n",
       "      <td>-0.025767</td>\n",
       "      <td>-0.295170</td>\n",
       "    </tr>\n",
       "    <tr>\n",
       "      <th>Area (in sq. km)</th>\n",
       "      <td>0.813111</td>\n",
       "      <td>1.000000</td>\n",
       "      <td>0.188278</td>\n",
       "      <td>-0.504624</td>\n",
       "      <td>0.161544</td>\n",
       "      <td>-0.190348</td>\n",
       "      <td>-0.313220</td>\n",
       "    </tr>\n",
       "    <tr>\n",
       "      <th>Population (Census 2011)</th>\n",
       "      <td>0.156973</td>\n",
       "      <td>0.188278</td>\n",
       "      <td>1.000000</td>\n",
       "      <td>0.402480</td>\n",
       "      <td>-0.498843</td>\n",
       "      <td>0.321723</td>\n",
       "      <td>0.705246</td>\n",
       "    </tr>\n",
       "    <tr>\n",
       "      <th>Population Density (per sq. km)</th>\n",
       "      <td>-0.521482</td>\n",
       "      <td>-0.504624</td>\n",
       "      <td>0.402480</td>\n",
       "      <td>1.000000</td>\n",
       "      <td>-0.549205</td>\n",
       "      <td>0.392261</td>\n",
       "      <td>0.760231</td>\n",
       "    </tr>\n",
       "    <tr>\n",
       "      <th>Sex Ratio</th>\n",
       "      <td>0.211124</td>\n",
       "      <td>0.161544</td>\n",
       "      <td>-0.498843</td>\n",
       "      <td>-0.549205</td>\n",
       "      <td>1.000000</td>\n",
       "      <td>-0.132996</td>\n",
       "      <td>-0.657067</td>\n",
       "    </tr>\n",
       "    <tr>\n",
       "      <th>Literacy Rate (%)</th>\n",
       "      <td>-0.025767</td>\n",
       "      <td>-0.190348</td>\n",
       "      <td>0.321723</td>\n",
       "      <td>0.392261</td>\n",
       "      <td>-0.132996</td>\n",
       "      <td>1.000000</td>\n",
       "      <td>0.500412</td>\n",
       "    </tr>\n",
       "    <tr>\n",
       "      <th>Urban Population (%)</th>\n",
       "      <td>-0.295170</td>\n",
       "      <td>-0.313220</td>\n",
       "      <td>0.705246</td>\n",
       "      <td>0.760231</td>\n",
       "      <td>-0.657067</td>\n",
       "      <td>0.500412</td>\n",
       "      <td>1.000000</td>\n",
       "    </tr>\n",
       "  </tbody>\n",
       "</table>\n",
       "</div>"
      ],
      "text/plain": [
       "                                 Number of Talukas  Area (in sq. km)  Population (Census 2011)  \\\n",
       "Number of Talukas                         1.000000          0.813111                  0.156973   \n",
       "Area (in sq. km)                          0.813111          1.000000                  0.188278   \n",
       "Population (Census 2011)                  0.156973          0.188278                  1.000000   \n",
       "Population Density (per sq. km)          -0.521482         -0.504624                  0.402480   \n",
       "Sex Ratio                                 0.211124          0.161544                 -0.498843   \n",
       "Literacy Rate (%)                        -0.025767         -0.190348                  0.321723   \n",
       "Urban Population (%)                     -0.295170         -0.313220                  0.705246   \n",
       "\n",
       "                                 Population Density (per sq. km)  Sex Ratio  Literacy Rate (%)  Urban Population (%)  \n",
       "Number of Talukas                                      -0.521482   0.211124          -0.025767             -0.295170  \n",
       "Area (in sq. km)                                       -0.504624   0.161544          -0.190348             -0.313220  \n",
       "Population (Census 2011)                                0.402480  -0.498843           0.321723              0.705246  \n",
       "Population Density (per sq. km)                         1.000000  -0.549205           0.392261              0.760231  \n",
       "Sex Ratio                                              -0.549205   1.000000          -0.132996             -0.657067  \n",
       "Literacy Rate (%)                                       0.392261  -0.132996           1.000000              0.500412  \n",
       "Urban Population (%)                                    0.760231  -0.657067           0.500412              1.000000  "
      ]
     },
     "metadata": {},
     "output_type": "display_data"
    },
    {
     "data": {
      "image/png": "[encoded data removed]",
      "text/plain": [
       "<Figure size 700x500 with 2 Axes>"
      ]
     },
     "metadata": {},
     "output_type": "display_data"
    },
    {
     "name": "stdout",
     "output_type": "stream",
     "text": [
      "\n",
      "Spearman correlation:\n"
     ]
    },
    {
     "data": {
      "text/html": [
       "<div>\n",
       "<style scoped>\n",
       "    .dataframe tbody tr th:only-of-type {\n",
       "        vertical-align: middle;\n",
       "    }\n",
       "\n",
       "    .dataframe tbody tr th {\n",
       "        vertical-align: top;\n",
       "    }\n",
       "\n",
       "    .dataframe thead th {\n",
       "        text-align: right;\n",
       "    }\n",
       "</style>\n",
       "<table border=\"1\" class=\"dataframe\">\n",
       "  <thead>\n",
       "    <tr style=\"text-align: right;\">\n",
       "      <th></th>\n",
       "      <th>Number of Talukas</th>\n",
       "      <th>Area (in sq. km)</th>\n",
       "      <th>Population (Census 2011)</th>\n",
       "      <th>Population Density (per sq. km)</th>\n",
       "      <th>Sex Ratio</th>\n",
       "      <th>Literacy Rate (%)</th>\n",
       "      <th>Urban Population (%)</th>\n",
       "    </tr>\n",
       "  </thead>\n",
       "  <tbody>\n",
       "    <tr>\n",
       "      <th>Number of Talukas</th>\n",
       "      <td>1.000000</td>\n",
       "      <td>0.824755</td>\n",
       "      <td>0.405719</td>\n",
       "      <td>-0.060836</td>\n",
       "      <td>0.154962</td>\n",
       "      <td>-0.085074</td>\n",
       "      <td>0.065374</td>\n",
       "    </tr>\n",
       "    <tr>\n",
       "      <th>Area (in sq. km)</th>\n",
       "      <td>0.824755</td>\n",
       "      <td>1.000000</td>\n",
       "      <td>0.397941</td>\n",
       "      <td>-0.179420</td>\n",
       "      <td>0.044550</td>\n",
       "      <td>-0.263063</td>\n",
       "      <td>0.016092</td>\n",
       "    </tr>\n",
       "    <tr>\n",
       "      <th>Population (Census 2011)</th>\n",
       "      <td>0.405719</td>\n",
       "      <td>0.397941</td>\n",
       "      <td>1.000000</td>\n",
       "      <td>0.729905</td>\n",
       "      <td>-0.489538</td>\n",
       "      <td>0.171171</td>\n",
       "      <td>0.730433</td>\n",
       "    </tr>\n",
       "    <tr>\n",
       "      <th>Population Density (per sq. km)</th>\n",
       "      <td>-0.060836</td>\n",
       "      <td>-0.179420</td>\n",
       "      <td>0.729905</td>\n",
       "      <td>1.000000</td>\n",
       "      <td>-0.492017</td>\n",
       "      <td>0.213012</td>\n",
       "      <td>0.720566</td>\n",
       "    </tr>\n",
       "    <tr>\n",
       "      <th>Sex Ratio</th>\n",
       "      <td>0.154962</td>\n",
       "      <td>0.044550</td>\n",
       "      <td>-0.489538</td>\n",
       "      <td>-0.492017</td>\n",
       "      <td>1.000000</td>\n",
       "      <td>-0.022533</td>\n",
       "      <td>-0.504218</td>\n",
       "    </tr>\n",
       "    <tr>\n",
       "      <th>Literacy Rate (%)</th>\n",
       "      <td>-0.085074</td>\n",
       "      <td>-0.263063</td>\n",
       "      <td>0.171171</td>\n",
       "      <td>0.213012</td>\n",
       "      <td>-0.022533</td>\n",
       "      <td>1.000000</td>\n",
       "      <td>0.388646</td>\n",
       "    </tr>\n",
       "    <tr>\n",
       "      <th>Urban Population (%)</th>\n",
       "      <td>0.065374</td>\n",
       "      <td>0.016092</td>\n",
       "      <td>0.730433</td>\n",
       "      <td>0.720566</td>\n",
       "      <td>-0.504218</td>\n",
       "      <td>0.388646</td>\n",
       "      <td>1.000000</td>\n",
       "    </tr>\n",
       "  </tbody>\n",
       "</table>\n",
       "</div>"
      ],
      "text/plain": [
       "                                 Number of Talukas  Area (in sq. km)  Population (Census 2011)  \\\n",
       "Number of Talukas                         1.000000          0.824755                  0.405719   \n",
       "Area (in sq. km)                          0.824755          1.000000                  0.397941   \n",
       "Population (Census 2011)                  0.405719          0.397941                  1.000000   \n",
       "Population Density (per sq. km)          -0.060836         -0.179420                  0.729905   \n",
       "Sex Ratio                                 0.154962          0.044550                 -0.489538   \n",
       "Literacy Rate (%)                        -0.085074         -0.263063                  0.171171   \n",
       "Urban Population (%)                      0.065374          0.016092                  0.730433   \n",
       "\n",
       "                                 Population Density (per sq. km)  Sex Ratio  Literacy Rate (%)  Urban Population (%)  \n",
       "Number of Talukas                                      -0.060836   0.154962          -0.085074              0.065374  \n",
       "Area (in sq. km)                                       -0.179420   0.044550          -0.263063              0.016092  \n",
       "Population (Census 2011)                                0.729905  -0.489538           0.171171              0.730433  \n",
       "Population Density (per sq. km)                         1.000000  -0.492017           0.213012              0.720566  \n",
       "Sex Ratio                                              -0.492017   1.000000          -0.022533             -0.504218  \n",
       "Literacy Rate (%)                                       0.213012  -0.022533           1.000000              0.388646  \n",
       "Urban Population (%)                                    0.720566  -0.504218           0.388646              1.000000  "
      ]
     },
     "metadata": {},
     "output_type": "display_data"
    },
    {
     "data": {
      "image/png": "[encoded data removed]",
      "text/plain": [
       "<Figure size 700x500 with 2 Axes>"
      ]
     },
     "metadata": {},
     "output_type": "display_data"
    }
   ],
   "source": [
    "num_df = df.select_dtypes(include=[np.number])\n",
    "\n",
    "for method in [\"pearson\", \"spearman\"]:\n",
    "    corr = num_df.corr(method=method)\n",
    "    print(f\"\\n{method.title()} correlation:\")\n",
    "    display(corr)\n",
    "\n",
    "    # Simple heatmap with matplotlib\n",
    "    plt.figure(figsize=(7,5))\n",
    "    plt.imshow(corr, interpolation=\"nearest\")\n",
    "    plt.xticks(range(len(corr.columns)), corr.columns, rotation=90)\n",
    "    plt.yticks(range(len(corr.index)), corr.index)\n",
    "    plt.title(f\"Correlation Heatmap ({method.title()})\")\n",
    "    plt.colorbar()\n",
    "    plt.tight_layout(); plt.savefig(os.path.join(PLOT_DIR, f\"corr_{method}.png\"))\n",
    "    plt.show()\n"
   ]
  },
  {
   "cell_type": "markdown",
   "id": "2c6dd6b9-156a-4113-a183-bd2df0665daf",
   "metadata": {},
   "source": [
    "# bivariate plots"
   ]
  },
  {
   "cell_type": "code",
   "execution_count": 33,
   "id": "577bedcf-fc53-4efd-b6e5-40005ee99086",
   "metadata": {},
   "outputs": [
    {
     "data": {
      "image/png": "[encoded data removed]",
      "text/plain": [
       "<Figure size 600x400 with 1 Axes>"
      ]
     },
     "metadata": {},
     "output_type": "display_data"
    },
    {
     "data": {
      "image/png": "[encoded data removed]",
      "text/plain": [
       "<Figure size 600x400 with 1 Axes>"
      ]
     },
     "metadata": {},
     "output_type": "display_data"
    },
    {
     "data": {
      "image/png": "[encoded data removed]",
      "text/plain": [
       "<Figure size 600x400 with 1 Axes>"
      ]
     },
     "metadata": {},
     "output_type": "display_data"
    },
    {
     "data": {
      "image/png": "[encoded data removed]",
      "text/plain": [
       "<Figure size 600x400 with 1 Axes>"
      ]
     },
     "metadata": {},
     "output_type": "display_data"
    }
   ],
   "source": [
    "def scatter_xy(xcol, ycol):\n",
    "    x = df[xcol].astype(float)\n",
    "    y = df[ycol].astype(float)\n",
    "    mask = x.notna() & y.notna()\n",
    "    plt.figure(figsize=(6,4))\n",
    "    plt.scatter(x[mask], y[mask])\n",
    "    plt.xlabel(xcol); plt.ylabel(ycol)\n",
    "    plt.title(f\"{xcol} vs {ycol}\")\n",
    "    plt.tight_layout(); plt.savefig(os.path.join(PLOT_DIR, f\"scatter_{xcol}_{ycol}.png\").replace(\" \", \"_\"))\n",
    "    plt.show()\n",
    "\n",
    "pairs = [\n",
    "    (\"Area (in sq. km)\", \"Population (Census 2011)\"),\n",
    "    (\"Area (in sq. km)\", \"Population Density (per sq. km)\"),\n",
    "    (\"Literacy Rate (%)\", \"Urban Population (%)\"),\n",
    "    (\"Sex Ratio\", \"Literacy Rate (%)\"),\n",
    "    (\"Population per Taluka\", \"Area per Taluka\")\n",
    "]\n",
    "\n",
    "for x,y in pairs:\n",
    "    if {x,y} <= set(df.columns) or all(c in df.columns or c in df for c in [x,y]):\n",
    "        scatter_xy(x, y)\n"
   ]
  },
  {
   "cell_type": "markdown",
   "id": "69ed5cfe-3388-417b-a179-afc74e2d0e73",
   "metadata": {},
   "source": [
    "# Outlier detection (IQR + Z-score)"
   ]
  },
  {
   "cell_type": "code",
   "execution_count": 34,
   "id": "33bc7c23-3207-4bd4-b190-3b68c77e66d7",
   "metadata": {},
   "outputs": [
    {
     "name": "stdout",
     "output_type": "stream",
     "text": [
      "Number of Talukas: 0 IQR outlier(s)\n",
      "Area (in sq. km): 0 IQR outlier(s)\n",
      "Population (Census 2011): 3 IQR outlier(s)\n"
     ]
    },
    {
     "data": {
      "text/html": [
       "<div>\n",
       "<style scoped>\n",
       "    .dataframe tbody tr th:only-of-type {\n",
       "        vertical-align: middle;\n",
       "    }\n",
       "\n",
       "    .dataframe tbody tr th {\n",
       "        vertical-align: top;\n",
       "    }\n",
       "\n",
       "    .dataframe thead th {\n",
       "        text-align: right;\n",
       "    }\n",
       "</style>\n",
       "<table border=\"1\" class=\"dataframe\">\n",
       "  <thead>\n",
       "    <tr style=\"text-align: right;\">\n",
       "      <th></th>\n",
       "      <th>District Name</th>\n",
       "      <th>Population (Census 2011)</th>\n",
       "    </tr>\n",
       "  </thead>\n",
       "  <tbody>\n",
       "    <tr>\n",
       "      <th>7</th>\n",
       "      <td>Thane</td>\n",
       "      <td>8131377</td>\n",
       "    </tr>\n",
       "    <tr>\n",
       "      <th>6</th>\n",
       "      <td>Mumbai Suburban</td>\n",
       "      <td>9356962</td>\n",
       "    </tr>\n",
       "    <tr>\n",
       "      <th>0</th>\n",
       "      <td>Pune</td>\n",
       "      <td>9429408</td>\n",
       "    </tr>\n",
       "  </tbody>\n",
       "</table>\n",
       "</div>"
      ],
      "text/plain": [
       "     District Name  Population (Census 2011)\n",
       "7            Thane                   8131377\n",
       "6  Mumbai Suburban                   9356962\n",
       "0             Pune                   9429408"
      ]
     },
     "metadata": {},
     "output_type": "display_data"
    },
    {
     "name": "stdout",
     "output_type": "stream",
     "text": [
      "Population Density (per sq. km): 5 IQR outlier(s)\n"
     ]
    },
    {
     "data": {
      "text/html": [
       "<div>\n",
       "<style scoped>\n",
       "    .dataframe tbody tr th:only-of-type {\n",
       "        vertical-align: middle;\n",
       "    }\n",
       "\n",
       "    .dataframe tbody tr th {\n",
       "        vertical-align: top;\n",
       "    }\n",
       "\n",
       "    .dataframe thead th {\n",
       "        text-align: right;\n",
       "    }\n",
       "</style>\n",
       "<table border=\"1\" class=\"dataframe\">\n",
       "  <thead>\n",
       "    <tr style=\"text-align: right;\">\n",
       "      <th></th>\n",
       "      <th>District Name</th>\n",
       "      <th>Population Density (per sq. km)</th>\n",
       "    </tr>\n",
       "  </thead>\n",
       "  <tbody>\n",
       "    <tr>\n",
       "      <th>8</th>\n",
       "      <td>Palghar</td>\n",
       "      <td>560</td>\n",
       "    </tr>\n",
       "    <tr>\n",
       "      <th>0</th>\n",
       "      <td>Pune</td>\n",
       "      <td>603</td>\n",
       "    </tr>\n",
       "    <tr>\n",
       "      <th>7</th>\n",
       "      <td>Thane</td>\n",
       "      <td>1930</td>\n",
       "    </tr>\n",
       "    <tr>\n",
       "      <th>5</th>\n",
       "      <td>Mumbai City</td>\n",
       "      <td>18914</td>\n",
       "    </tr>\n",
       "    <tr>\n",
       "      <th>6</th>\n",
       "      <td>Mumbai Suburban</td>\n",
       "      <td>20980</td>\n",
       "    </tr>\n",
       "  </tbody>\n",
       "</table>\n",
       "</div>"
      ],
      "text/plain": [
       "     District Name  Population Density (per sq. km)\n",
       "8          Palghar                              560\n",
       "0             Pune                              603\n",
       "7            Thane                             1930\n",
       "5      Mumbai City                            18914\n",
       "6  Mumbai Suburban                            20980"
      ]
     },
     "metadata": {},
     "output_type": "display_data"
    },
    {
     "name": "stdout",
     "output_type": "stream",
     "text": [
      "Sex Ratio: 4 IQR outlier(s)\n"
     ]
    },
    {
     "data": {
      "text/html": [
       "<div>\n",
       "<style scoped>\n",
       "    .dataframe tbody tr th:only-of-type {\n",
       "        vertical-align: middle;\n",
       "    }\n",
       "\n",
       "    .dataframe tbody tr th {\n",
       "        vertical-align: top;\n",
       "    }\n",
       "\n",
       "    .dataframe thead th {\n",
       "        text-align: right;\n",
       "    }\n",
       "</style>\n",
       "<table border=\"1\" class=\"dataframe\">\n",
       "  <thead>\n",
       "    <tr style=\"text-align: right;\">\n",
       "      <th></th>\n",
       "      <th>District Name</th>\n",
       "      <th>Sex Ratio</th>\n",
       "    </tr>\n",
       "  </thead>\n",
       "  <tbody>\n",
       "    <tr>\n",
       "      <th>5</th>\n",
       "      <td>Mumbai City</td>\n",
       "      <td>832</td>\n",
       "    </tr>\n",
       "    <tr>\n",
       "      <th>6</th>\n",
       "      <td>Mumbai Suburban</td>\n",
       "      <td>860</td>\n",
       "    </tr>\n",
       "    <tr>\n",
       "      <th>11</th>\n",
       "      <td>Sindhudurg</td>\n",
       "      <td>1036</td>\n",
       "    </tr>\n",
       "    <tr>\n",
       "      <th>10</th>\n",
       "      <td>Ratnagiri</td>\n",
       "      <td>1122</td>\n",
       "    </tr>\n",
       "  </tbody>\n",
       "</table>\n",
       "</div>"
      ],
      "text/plain": [
       "      District Name  Sex Ratio\n",
       "5       Mumbai City        832\n",
       "6   Mumbai Suburban        860\n",
       "11       Sindhudurg       1036\n",
       "10        Ratnagiri       1122"
      ]
     },
     "metadata": {},
     "output_type": "display_data"
    },
    {
     "name": "stdout",
     "output_type": "stream",
     "text": [
      "Literacy Rate (%): 1 IQR outlier(s)\n"
     ]
    },
    {
     "data": {
      "text/html": [
       "<div>\n",
       "<style scoped>\n",
       "    .dataframe tbody tr th:only-of-type {\n",
       "        vertical-align: middle;\n",
       "    }\n",
       "\n",
       "    .dataframe tbody tr th {\n",
       "        vertical-align: top;\n",
       "    }\n",
       "\n",
       "    .dataframe thead th {\n",
       "        text-align: right;\n",
       "    }\n",
       "</style>\n",
       "<table border=\"1\" class=\"dataframe\">\n",
       "  <thead>\n",
       "    <tr style=\"text-align: right;\">\n",
       "      <th></th>\n",
       "      <th>District Name</th>\n",
       "      <th>Literacy Rate (%)</th>\n",
       "    </tr>\n",
       "  </thead>\n",
       "  <tbody>\n",
       "    <tr>\n",
       "      <th>16</th>\n",
       "      <td>Nandurbar</td>\n",
       "      <td>64.38</td>\n",
       "    </tr>\n",
       "  </tbody>\n",
       "</table>\n",
       "</div>"
      ],
      "text/plain": [
       "   District Name  Literacy Rate (%)\n",
       "16     Nandurbar              64.38"
      ]
     },
     "metadata": {},
     "output_type": "display_data"
    },
    {
     "name": "stdout",
     "output_type": "stream",
     "text": [
      "Urban Population (%): 4 IQR outlier(s)\n"
     ]
    },
    {
     "data": {
      "text/html": [
       "<div>\n",
       "<style scoped>\n",
       "    .dataframe tbody tr th:only-of-type {\n",
       "        vertical-align: middle;\n",
       "    }\n",
       "\n",
       "    .dataframe tbody tr th {\n",
       "        vertical-align: top;\n",
       "    }\n",
       "\n",
       "    .dataframe thead th {\n",
       "        text-align: right;\n",
       "    }\n",
       "</style>\n",
       "<table border=\"1\" class=\"dataframe\">\n",
       "  <thead>\n",
       "    <tr style=\"text-align: right;\">\n",
       "      <th></th>\n",
       "      <th>District Name</th>\n",
       "      <th>Urban Population (%)</th>\n",
       "    </tr>\n",
       "  </thead>\n",
       "  <tbody>\n",
       "    <tr>\n",
       "      <th>25</th>\n",
       "      <td>Nagpur</td>\n",
       "      <td>68.3</td>\n",
       "    </tr>\n",
       "    <tr>\n",
       "      <th>7</th>\n",
       "      <td>Thane</td>\n",
       "      <td>77.0</td>\n",
       "    </tr>\n",
       "    <tr>\n",
       "      <th>6</th>\n",
       "      <td>Mumbai Suburban</td>\n",
       "      <td>100.0</td>\n",
       "    </tr>\n",
       "    <tr>\n",
       "      <th>5</th>\n",
       "      <td>Mumbai City</td>\n",
       "      <td>100.0</td>\n",
       "    </tr>\n",
       "  </tbody>\n",
       "</table>\n",
       "</div>"
      ],
      "text/plain": [
       "      District Name  Urban Population (%)\n",
       "25           Nagpur                  68.3\n",
       "7             Thane                  77.0\n",
       "6   Mumbai Suburban                 100.0\n",
       "5       Mumbai City                 100.0"
      ]
     },
     "metadata": {},
     "output_type": "display_data"
    },
    {
     "name": "stdout",
     "output_type": "stream",
     "text": [
      "Number of Talukas: 0 Z>3 outlier(s)\n",
      "Area (in sq. km): 0 Z>3 outlier(s)\n",
      "Population (Census 2011): 0 Z>3 outlier(s)\n",
      "Population Density (per sq. km): 2 Z>3 outlier(s)\n"
     ]
    },
    {
     "data": {
      "text/html": [
       "<div>\n",
       "<style scoped>\n",
       "    .dataframe tbody tr th:only-of-type {\n",
       "        vertical-align: middle;\n",
       "    }\n",
       "\n",
       "    .dataframe tbody tr th {\n",
       "        vertical-align: top;\n",
       "    }\n",
       "\n",
       "    .dataframe thead th {\n",
       "        text-align: right;\n",
       "    }\n",
       "</style>\n",
       "<table border=\"1\" class=\"dataframe\">\n",
       "  <thead>\n",
       "    <tr style=\"text-align: right;\">\n",
       "      <th></th>\n",
       "      <th>District Name</th>\n",
       "      <th>Population Density (per sq. km)</th>\n",
       "    </tr>\n",
       "  </thead>\n",
       "  <tbody>\n",
       "    <tr>\n",
       "      <th>5</th>\n",
       "      <td>Mumbai City</td>\n",
       "      <td>18914</td>\n",
       "    </tr>\n",
       "    <tr>\n",
       "      <th>6</th>\n",
       "      <td>Mumbai Suburban</td>\n",
       "      <td>20980</td>\n",
       "    </tr>\n",
       "  </tbody>\n",
       "</table>\n",
       "</div>"
      ],
      "text/plain": [
       "     District Name  Population Density (per sq. km)\n",
       "5      Mumbai City                            18914\n",
       "6  Mumbai Suburban                            20980"
      ]
     },
     "metadata": {},
     "output_type": "display_data"
    },
    {
     "name": "stdout",
     "output_type": "stream",
     "text": [
      "Sex Ratio: 1 Z>3 outlier(s)\n"
     ]
    },
    {
     "data": {
      "text/html": [
       "<div>\n",
       "<style scoped>\n",
       "    .dataframe tbody tr th:only-of-type {\n",
       "        vertical-align: middle;\n",
       "    }\n",
       "\n",
       "    .dataframe tbody tr th {\n",
       "        vertical-align: top;\n",
       "    }\n",
       "\n",
       "    .dataframe thead th {\n",
       "        text-align: right;\n",
       "    }\n",
       "</style>\n",
       "<table border=\"1\" class=\"dataframe\">\n",
       "  <thead>\n",
       "    <tr style=\"text-align: right;\">\n",
       "      <th></th>\n",
       "      <th>District Name</th>\n",
       "      <th>Sex Ratio</th>\n",
       "    </tr>\n",
       "  </thead>\n",
       "  <tbody>\n",
       "    <tr>\n",
       "      <th>10</th>\n",
       "      <td>Ratnagiri</td>\n",
       "      <td>1122</td>\n",
       "    </tr>\n",
       "  </tbody>\n",
       "</table>\n",
       "</div>"
      ],
      "text/plain": [
       "   District Name  Sex Ratio\n",
       "10     Ratnagiri       1122"
      ]
     },
     "metadata": {},
     "output_type": "display_data"
    },
    {
     "name": "stdout",
     "output_type": "stream",
     "text": [
      "Literacy Rate (%): 0 Z>3 outlier(s)\n",
      "Urban Population (%): 0 Z>3 outlier(s)\n"
     ]
    }
   ],
   "source": [
    "num_cols = df.select_dtypes(include=[np.number]).columns\n",
    "\n",
    "# IQR method\n",
    "out_iqr = {}\n",
    "for col in num_cols:\n",
    "    q1, q3 = df[col].quantile([0.25, 0.75])\n",
    "    iqr = q3 - q1\n",
    "    low, high = q1 - 1.5*iqr, q3 + 1.5*iqr\n",
    "    mask = (df[col] < low) | (df[col] > high)\n",
    "    out_iqr[col] = df.loc[mask, [\"District Name\", col]]\n",
    "    print(f\"{col}: {mask.sum()} IQR outlier(s)\")\n",
    "    if mask.sum(): display(out_iqr[col].sort_values(col))\n",
    "\n",
    "# Z-score method (|z| > 3)\n",
    "out_z = {}\n",
    "for col in num_cols:\n",
    "    mu, sigma = df[col].mean(), df[col].std()\n",
    "    if sigma and sigma > 0:\n",
    "        z = (df[col] - mu) / sigma\n",
    "        mask = z.abs() > 3\n",
    "        out_z[col] = df.loc[mask, [\"District Name\", col]]\n",
    "        print(f\"{col}: {mask.sum()} Z>3 outlier(s)\")\n",
    "        if mask.sum(): display(out_z[col].sort_values(col))\n"
   ]
  },
  {
   "cell_type": "markdown",
   "id": "b06813e6-7ec9-4cb6-bcc8-05adc04e867c",
   "metadata": {},
   "source": [
    "# Rank & top/bottom lists"
   ]
  },
  {
   "cell_type": "code",
   "execution_count": 35,
   "id": "d2d813d8-4ca8-4815-b746-ec8ed9c944fa",
   "metadata": {},
   "outputs": [
    {
     "name": "stdout",
     "output_type": "stream",
     "text": [
      "\n",
      "Top 5 by Area (in sq. km):\n"
     ]
    },
    {
     "data": {
      "text/html": [
       "<div>\n",
       "<style scoped>\n",
       "    .dataframe tbody tr th:only-of-type {\n",
       "        vertical-align: middle;\n",
       "    }\n",
       "\n",
       "    .dataframe tbody tr th {\n",
       "        vertical-align: top;\n",
       "    }\n",
       "\n",
       "    .dataframe thead th {\n",
       "        text-align: right;\n",
       "    }\n",
       "</style>\n",
       "<table border=\"1\" class=\"dataframe\">\n",
       "  <thead>\n",
       "    <tr style=\"text-align: right;\">\n",
       "      <th></th>\n",
       "      <th>District Name</th>\n",
       "      <th>Area (in sq. km)</th>\n",
       "    </tr>\n",
       "  </thead>\n",
       "  <tbody>\n",
       "    <tr>\n",
       "      <th>13</th>\n",
       "      <td>Ahilyanagar</td>\n",
       "      <td>17048</td>\n",
       "    </tr>\n",
       "    <tr>\n",
       "      <th>0</th>\n",
       "      <td>Pune</td>\n",
       "      <td>15643</td>\n",
       "    </tr>\n",
       "    <tr>\n",
       "      <th>12</th>\n",
       "      <td>Nashik</td>\n",
       "      <td>15530</td>\n",
       "    </tr>\n",
       "    <tr>\n",
       "      <th>3</th>\n",
       "      <td>Solapur</td>\n",
       "      <td>14895</td>\n",
       "    </tr>\n",
       "    <tr>\n",
       "      <th>30</th>\n",
       "      <td>Gadchiroli</td>\n",
       "      <td>14412</td>\n",
       "    </tr>\n",
       "  </tbody>\n",
       "</table>\n",
       "</div>"
      ],
      "text/plain": [
       "   District Name  Area (in sq. km)\n",
       "13   Ahilyanagar             17048\n",
       "0           Pune             15643\n",
       "12        Nashik             15530\n",
       "3        Solapur             14895\n",
       "30    Gadchiroli             14412"
      ]
     },
     "metadata": {},
     "output_type": "display_data"
    },
    {
     "name": "stdout",
     "output_type": "stream",
     "text": [
      "Bottom 5 by Area (in sq. km):\n"
     ]
    },
    {
     "data": {
      "text/html": [
       "<div>\n",
       "<style scoped>\n",
       "    .dataframe tbody tr th:only-of-type {\n",
       "        vertical-align: middle;\n",
       "    }\n",
       "\n",
       "    .dataframe tbody tr th {\n",
       "        vertical-align: top;\n",
       "    }\n",
       "\n",
       "    .dataframe thead th {\n",
       "        text-align: right;\n",
       "    }\n",
       "</style>\n",
       "<table border=\"1\" class=\"dataframe\">\n",
       "  <thead>\n",
       "    <tr style=\"text-align: right;\">\n",
       "      <th></th>\n",
       "      <th>District Name</th>\n",
       "      <th>Area (in sq. km)</th>\n",
       "    </tr>\n",
       "  </thead>\n",
       "  <tbody>\n",
       "    <tr>\n",
       "      <th>5</th>\n",
       "      <td>Mumbai City</td>\n",
       "      <td>157</td>\n",
       "    </tr>\n",
       "    <tr>\n",
       "      <th>6</th>\n",
       "      <td>Mumbai Suburban</td>\n",
       "      <td>446</td>\n",
       "    </tr>\n",
       "    <tr>\n",
       "      <th>27</th>\n",
       "      <td>Bhandara</td>\n",
       "      <td>4087</td>\n",
       "    </tr>\n",
       "    <tr>\n",
       "      <th>7</th>\n",
       "      <td>Thane</td>\n",
       "      <td>4214</td>\n",
       "    </tr>\n",
       "    <tr>\n",
       "      <th>22</th>\n",
       "      <td>Hingoli</td>\n",
       "      <td>4526</td>\n",
       "    </tr>\n",
       "  </tbody>\n",
       "</table>\n",
       "</div>"
      ],
      "text/plain": [
       "      District Name  Area (in sq. km)\n",
       "5       Mumbai City               157\n",
       "6   Mumbai Suburban               446\n",
       "27         Bhandara              4087\n",
       "7             Thane              4214\n",
       "22          Hingoli              4526"
      ]
     },
     "metadata": {},
     "output_type": "display_data"
    },
    {
     "name": "stdout",
     "output_type": "stream",
     "text": [
      "\n",
      "Top 5 by Population (Census 2011):\n"
     ]
    },
    {
     "data": {
      "text/html": [
       "<div>\n",
       "<style scoped>\n",
       "    .dataframe tbody tr th:only-of-type {\n",
       "        vertical-align: middle;\n",
       "    }\n",
       "\n",
       "    .dataframe tbody tr th {\n",
       "        vertical-align: top;\n",
       "    }\n",
       "\n",
       "    .dataframe thead th {\n",
       "        text-align: right;\n",
       "    }\n",
       "</style>\n",
       "<table border=\"1\" class=\"dataframe\">\n",
       "  <thead>\n",
       "    <tr style=\"text-align: right;\">\n",
       "      <th></th>\n",
       "      <th>District Name</th>\n",
       "      <th>Population (Census 2011)</th>\n",
       "    </tr>\n",
       "  </thead>\n",
       "  <tbody>\n",
       "    <tr>\n",
       "      <th>0</th>\n",
       "      <td>Pune</td>\n",
       "      <td>9429408</td>\n",
       "    </tr>\n",
       "    <tr>\n",
       "      <th>6</th>\n",
       "      <td>Mumbai Suburban</td>\n",
       "      <td>9356962</td>\n",
       "    </tr>\n",
       "    <tr>\n",
       "      <th>7</th>\n",
       "      <td>Thane</td>\n",
       "      <td>8131377</td>\n",
       "    </tr>\n",
       "    <tr>\n",
       "      <th>12</th>\n",
       "      <td>Nashik</td>\n",
       "      <td>6107187</td>\n",
       "    </tr>\n",
       "    <tr>\n",
       "      <th>25</th>\n",
       "      <td>Nagpur</td>\n",
       "      <td>4653570</td>\n",
       "    </tr>\n",
       "  </tbody>\n",
       "</table>\n",
       "</div>"
      ],
      "text/plain": [
       "      District Name  Population (Census 2011)\n",
       "0              Pune                   9429408\n",
       "6   Mumbai Suburban                   9356962\n",
       "7             Thane                   8131377\n",
       "12           Nashik                   6107187\n",
       "25           Nagpur                   4653570"
      ]
     },
     "metadata": {},
     "output_type": "display_data"
    },
    {
     "name": "stdout",
     "output_type": "stream",
     "text": [
      "Bottom 5 by Population (Census 2011):\n"
     ]
    },
    {
     "data": {
      "text/html": [
       "<div>\n",
       "<style scoped>\n",
       "    .dataframe tbody tr th:only-of-type {\n",
       "        vertical-align: middle;\n",
       "    }\n",
       "\n",
       "    .dataframe tbody tr th {\n",
       "        vertical-align: top;\n",
       "    }\n",
       "\n",
       "    .dataframe thead th {\n",
       "        text-align: right;\n",
       "    }\n",
       "</style>\n",
       "<table border=\"1\" class=\"dataframe\">\n",
       "  <thead>\n",
       "    <tr style=\"text-align: right;\">\n",
       "      <th></th>\n",
       "      <th>District Name</th>\n",
       "      <th>Population (Census 2011)</th>\n",
       "    </tr>\n",
       "  </thead>\n",
       "  <tbody>\n",
       "    <tr>\n",
       "      <th>11</th>\n",
       "      <td>Sindhudurg</td>\n",
       "      <td>849651</td>\n",
       "    </tr>\n",
       "    <tr>\n",
       "      <th>30</th>\n",
       "      <td>Gadchiroli</td>\n",
       "      <td>1072942</td>\n",
       "    </tr>\n",
       "    <tr>\n",
       "      <th>22</th>\n",
       "      <td>Hingoli</td>\n",
       "      <td>1177345</td>\n",
       "    </tr>\n",
       "    <tr>\n",
       "      <th>35</th>\n",
       "      <td>Washim</td>\n",
       "      <td>1197160</td>\n",
       "    </tr>\n",
       "    <tr>\n",
       "      <th>27</th>\n",
       "      <td>Bhandara</td>\n",
       "      <td>1200334</td>\n",
       "    </tr>\n",
       "  </tbody>\n",
       "</table>\n",
       "</div>"
      ],
      "text/plain": [
       "   District Name  Population (Census 2011)\n",
       "11    Sindhudurg                    849651\n",
       "30    Gadchiroli                   1072942\n",
       "22       Hingoli                   1177345\n",
       "35        Washim                   1197160\n",
       "27      Bhandara                   1200334"
      ]
     },
     "metadata": {},
     "output_type": "display_data"
    },
    {
     "name": "stdout",
     "output_type": "stream",
     "text": [
      "\n",
      "Top 5 by Population Density (per sq. km):\n"
     ]
    },
    {
     "data": {
      "text/html": [
       "<div>\n",
       "<style scoped>\n",
       "    .dataframe tbody tr th:only-of-type {\n",
       "        vertical-align: middle;\n",
       "    }\n",
       "\n",
       "    .dataframe tbody tr th {\n",
       "        vertical-align: top;\n",
       "    }\n",
       "\n",
       "    .dataframe thead th {\n",
       "        text-align: right;\n",
       "    }\n",
       "</style>\n",
       "<table border=\"1\" class=\"dataframe\">\n",
       "  <thead>\n",
       "    <tr style=\"text-align: right;\">\n",
       "      <th></th>\n",
       "      <th>District Name</th>\n",
       "      <th>Population Density (per sq. km)</th>\n",
       "    </tr>\n",
       "  </thead>\n",
       "  <tbody>\n",
       "    <tr>\n",
       "      <th>6</th>\n",
       "      <td>Mumbai Suburban</td>\n",
       "      <td>20980</td>\n",
       "    </tr>\n",
       "    <tr>\n",
       "      <th>5</th>\n",
       "      <td>Mumbai City</td>\n",
       "      <td>18914</td>\n",
       "    </tr>\n",
       "    <tr>\n",
       "      <th>7</th>\n",
       "      <td>Thane</td>\n",
       "      <td>1930</td>\n",
       "    </tr>\n",
       "    <tr>\n",
       "      <th>0</th>\n",
       "      <td>Pune</td>\n",
       "      <td>603</td>\n",
       "    </tr>\n",
       "    <tr>\n",
       "      <th>8</th>\n",
       "      <td>Palghar</td>\n",
       "      <td>560</td>\n",
       "    </tr>\n",
       "  </tbody>\n",
       "</table>\n",
       "</div>"
      ],
      "text/plain": [
       "     District Name  Population Density (per sq. km)\n",
       "6  Mumbai Suburban                            20980\n",
       "5      Mumbai City                            18914\n",
       "7            Thane                             1930\n",
       "0             Pune                              603\n",
       "8          Palghar                              560"
      ]
     },
     "metadata": {},
     "output_type": "display_data"
    },
    {
     "name": "stdout",
     "output_type": "stream",
     "text": [
      "Bottom 5 by Population Density (per sq. km):\n"
     ]
    },
    {
     "data": {
      "text/html": [
       "<div>\n",
       "<style scoped>\n",
       "    .dataframe tbody tr th:only-of-type {\n",
       "        vertical-align: middle;\n",
       "    }\n",
       "\n",
       "    .dataframe tbody tr th {\n",
       "        vertical-align: top;\n",
       "    }\n",
       "\n",
       "    .dataframe thead th {\n",
       "        text-align: right;\n",
       "    }\n",
       "</style>\n",
       "<table border=\"1\" class=\"dataframe\">\n",
       "  <thead>\n",
       "    <tr style=\"text-align: right;\">\n",
       "      <th></th>\n",
       "      <th>District Name</th>\n",
       "      <th>Population Density (per sq. km)</th>\n",
       "    </tr>\n",
       "  </thead>\n",
       "  <tbody>\n",
       "    <tr>\n",
       "      <th>30</th>\n",
       "      <td>Gadchiroli</td>\n",
       "      <td>74</td>\n",
       "    </tr>\n",
       "    <tr>\n",
       "      <th>11</th>\n",
       "      <td>Sindhudurg</td>\n",
       "      <td>163</td>\n",
       "    </tr>\n",
       "    <tr>\n",
       "      <th>29</th>\n",
       "      <td>Chandrapur</td>\n",
       "      <td>193</td>\n",
       "    </tr>\n",
       "    <tr>\n",
       "      <th>10</th>\n",
       "      <td>Ratnagiri</td>\n",
       "      <td>197</td>\n",
       "    </tr>\n",
       "    <tr>\n",
       "      <th>33</th>\n",
       "      <td>Yavatmal</td>\n",
       "      <td>204</td>\n",
       "    </tr>\n",
       "  </tbody>\n",
       "</table>\n",
       "</div>"
      ],
      "text/plain": [
       "   District Name  Population Density (per sq. km)\n",
       "30    Gadchiroli                               74\n",
       "11    Sindhudurg                              163\n",
       "29    Chandrapur                              193\n",
       "10     Ratnagiri                              197\n",
       "33      Yavatmal                              204"
      ]
     },
     "metadata": {},
     "output_type": "display_data"
    },
    {
     "name": "stdout",
     "output_type": "stream",
     "text": [
      "\n",
      "Top 5 by Literacy Rate (%):\n"
     ]
    },
    {
     "data": {
      "text/html": [
       "<div>\n",
       "<style scoped>\n",
       "    .dataframe tbody tr th:only-of-type {\n",
       "        vertical-align: middle;\n",
       "    }\n",
       "\n",
       "    .dataframe tbody tr th {\n",
       "        vertical-align: top;\n",
       "    }\n",
       "\n",
       "    .dataframe thead th {\n",
       "        text-align: right;\n",
       "    }\n",
       "</style>\n",
       "<table border=\"1\" class=\"dataframe\">\n",
       "  <thead>\n",
       "    <tr style=\"text-align: right;\">\n",
       "      <th></th>\n",
       "      <th>District Name</th>\n",
       "      <th>Literacy Rate (%)</th>\n",
       "    </tr>\n",
       "  </thead>\n",
       "  <tbody>\n",
       "    <tr>\n",
       "      <th>6</th>\n",
       "      <td>Mumbai Suburban</td>\n",
       "      <td>89.91</td>\n",
       "    </tr>\n",
       "    <tr>\n",
       "      <th>5</th>\n",
       "      <td>Mumbai City</td>\n",
       "      <td>89.21</td>\n",
       "    </tr>\n",
       "    <tr>\n",
       "      <th>25</th>\n",
       "      <td>Nagpur</td>\n",
       "      <td>88.39</td>\n",
       "    </tr>\n",
       "    <tr>\n",
       "      <th>32</th>\n",
       "      <td>Akola</td>\n",
       "      <td>88.05</td>\n",
       "    </tr>\n",
       "    <tr>\n",
       "      <th>31</th>\n",
       "      <td>Amravati</td>\n",
       "      <td>87.38</td>\n",
       "    </tr>\n",
       "  </tbody>\n",
       "</table>\n",
       "</div>"
      ],
      "text/plain": [
       "      District Name  Literacy Rate (%)\n",
       "6   Mumbai Suburban              89.91\n",
       "5       Mumbai City              89.21\n",
       "25           Nagpur              88.39\n",
       "32            Akola              88.05\n",
       "31         Amravati              87.38"
      ]
     },
     "metadata": {},
     "output_type": "display_data"
    },
    {
     "name": "stdout",
     "output_type": "stream",
     "text": [
      "Bottom 5 by Literacy Rate (%):\n"
     ]
    },
    {
     "data": {
      "text/html": [
       "<div>\n",
       "<style scoped>\n",
       "    .dataframe tbody tr th:only-of-type {\n",
       "        vertical-align: middle;\n",
       "    }\n",
       "\n",
       "    .dataframe tbody tr th {\n",
       "        vertical-align: top;\n",
       "    }\n",
       "\n",
       "    .dataframe thead th {\n",
       "        text-align: right;\n",
       "    }\n",
       "</style>\n",
       "<table border=\"1\" class=\"dataframe\">\n",
       "  <thead>\n",
       "    <tr style=\"text-align: right;\">\n",
       "      <th></th>\n",
       "      <th>District Name</th>\n",
       "      <th>Literacy Rate (%)</th>\n",
       "    </tr>\n",
       "  </thead>\n",
       "  <tbody>\n",
       "    <tr>\n",
       "      <th>16</th>\n",
       "      <td>Nandurbar</td>\n",
       "      <td>64.38</td>\n",
       "    </tr>\n",
       "    <tr>\n",
       "      <th>18</th>\n",
       "      <td>Jalna</td>\n",
       "      <td>71.53</td>\n",
       "    </tr>\n",
       "    <tr>\n",
       "      <th>14</th>\n",
       "      <td>Dhule</td>\n",
       "      <td>72.80</td>\n",
       "    </tr>\n",
       "    <tr>\n",
       "      <th>23</th>\n",
       "      <td>Parbhani</td>\n",
       "      <td>73.34</td>\n",
       "    </tr>\n",
       "    <tr>\n",
       "      <th>30</th>\n",
       "      <td>Gadchiroli</td>\n",
       "      <td>74.36</td>\n",
       "    </tr>\n",
       "  </tbody>\n",
       "</table>\n",
       "</div>"
      ],
      "text/plain": [
       "   District Name  Literacy Rate (%)\n",
       "16     Nandurbar              64.38\n",
       "18         Jalna              71.53\n",
       "14         Dhule              72.80\n",
       "23      Parbhani              73.34\n",
       "30    Gadchiroli              74.36"
      ]
     },
     "metadata": {},
     "output_type": "display_data"
    },
    {
     "name": "stdout",
     "output_type": "stream",
     "text": [
      "\n",
      "Top 5 by Urban Population (%):\n"
     ]
    },
    {
     "data": {
      "text/html": [
       "<div>\n",
       "<style scoped>\n",
       "    .dataframe tbody tr th:only-of-type {\n",
       "        vertical-align: middle;\n",
       "    }\n",
       "\n",
       "    .dataframe tbody tr th {\n",
       "        vertical-align: top;\n",
       "    }\n",
       "\n",
       "    .dataframe thead th {\n",
       "        text-align: right;\n",
       "    }\n",
       "</style>\n",
       "<table border=\"1\" class=\"dataframe\">\n",
       "  <thead>\n",
       "    <tr style=\"text-align: right;\">\n",
       "      <th></th>\n",
       "      <th>District Name</th>\n",
       "      <th>Urban Population (%)</th>\n",
       "    </tr>\n",
       "  </thead>\n",
       "  <tbody>\n",
       "    <tr>\n",
       "      <th>6</th>\n",
       "      <td>Mumbai Suburban</td>\n",
       "      <td>100.0</td>\n",
       "    </tr>\n",
       "    <tr>\n",
       "      <th>5</th>\n",
       "      <td>Mumbai City</td>\n",
       "      <td>100.0</td>\n",
       "    </tr>\n",
       "    <tr>\n",
       "      <th>7</th>\n",
       "      <td>Thane</td>\n",
       "      <td>77.0</td>\n",
       "    </tr>\n",
       "    <tr>\n",
       "      <th>25</th>\n",
       "      <td>Nagpur</td>\n",
       "      <td>68.3</td>\n",
       "    </tr>\n",
       "    <tr>\n",
       "      <th>0</th>\n",
       "      <td>Pune</td>\n",
       "      <td>60.5</td>\n",
       "    </tr>\n",
       "  </tbody>\n",
       "</table>\n",
       "</div>"
      ],
      "text/plain": [
       "      District Name  Urban Population (%)\n",
       "6   Mumbai Suburban                 100.0\n",
       "5       Mumbai City                 100.0\n",
       "7             Thane                  77.0\n",
       "25           Nagpur                  68.3\n",
       "0              Pune                  60.5"
      ]
     },
     "metadata": {},
     "output_type": "display_data"
    },
    {
     "name": "stdout",
     "output_type": "stream",
     "text": [
      "Bottom 5 by Urban Population (%):\n"
     ]
    },
    {
     "data": {
      "text/html": [
       "<div>\n",
       "<style scoped>\n",
       "    .dataframe tbody tr th:only-of-type {\n",
       "        vertical-align: middle;\n",
       "    }\n",
       "\n",
       "    .dataframe tbody tr th {\n",
       "        vertical-align: top;\n",
       "    }\n",
       "\n",
       "    .dataframe thead th {\n",
       "        text-align: right;\n",
       "    }\n",
       "</style>\n",
       "<table border=\"1\" class=\"dataframe\">\n",
       "  <thead>\n",
       "    <tr style=\"text-align: right;\">\n",
       "      <th></th>\n",
       "      <th>District Name</th>\n",
       "      <th>Urban Population (%)</th>\n",
       "    </tr>\n",
       "  </thead>\n",
       "  <tbody>\n",
       "    <tr>\n",
       "      <th>30</th>\n",
       "      <td>Gadchiroli</td>\n",
       "      <td>11.0</td>\n",
       "    </tr>\n",
       "    <tr>\n",
       "      <th>11</th>\n",
       "      <td>Sindhudurg</td>\n",
       "      <td>12.6</td>\n",
       "    </tr>\n",
       "    <tr>\n",
       "      <th>22</th>\n",
       "      <td>Hingoli</td>\n",
       "      <td>15.2</td>\n",
       "    </tr>\n",
       "    <tr>\n",
       "      <th>10</th>\n",
       "      <td>Ratnagiri</td>\n",
       "      <td>16.3</td>\n",
       "    </tr>\n",
       "    <tr>\n",
       "      <th>16</th>\n",
       "      <td>Nandurbar</td>\n",
       "      <td>16.7</td>\n",
       "    </tr>\n",
       "  </tbody>\n",
       "</table>\n",
       "</div>"
      ],
      "text/plain": [
       "   District Name  Urban Population (%)\n",
       "30    Gadchiroli                  11.0\n",
       "11    Sindhudurg                  12.6\n",
       "22       Hingoli                  15.2\n",
       "10     Ratnagiri                  16.3\n",
       "16     Nandurbar                  16.7"
      ]
     },
     "metadata": {},
     "output_type": "display_data"
    }
   ],
   "source": [
    "def top_k(col, k=5, ascending=False):\n",
    "    return df[[\"District Name\", col]].sort_values(col, ascending=ascending).head(k)\n",
    "\n",
    "def bottom_k(col, k=5):\n",
    "    return df[[\"District Name\", col]].sort_values(col, ascending=True).head(k)\n",
    "\n",
    "for col in [\"Area (in sq. km)\", \"Population (Census 2011)\", \"Population Density (per sq. km)\", \"Literacy Rate (%)\", \"Urban Population (%)\"]:\n",
    "    if col in df.columns:\n",
    "        print(f\"\\nTop 5 by {col}:\"); display(top_k(col))\n",
    "        print(f\"Bottom 5 by {col}:\"); display(bottom_k(col))\n"
   ]
  },
  {
   "cell_type": "markdown",
   "id": "fffe7e9a-c392-495f-a028-aac40a01bf90",
   "metadata": {},
   "source": [
    "# Auto-insights summary"
   ]
  },
  {
   "cell_type": "code",
   "execution_count": 36,
   "id": "4863063b-1ee5-428c-9643-046edc8d5550",
   "metadata": {},
   "outputs": [
    {
     "name": "stdout",
     "output_type": "stream",
     "text": [
      "— EDA Highlights —\n",
      "• Largest by area: Ahilyanagar (17048 sq.km)\n",
      "• Smallest by area: Mumbai City (157 sq.km)\n",
      "• Highest literacy: Mumbai Suburban (89.91%)\n",
      "• Lowest literacy: Nandurbar (64.38%)\n",
      "• Most urbanized: Mumbai City (100.00%)\n",
      "• Least urbanized: Gadchiroli (11.00%)\n",
      "• Highest density: Mumbai Suburban (20980 per sq.km)\n",
      "• Lowest density: Gadchiroli (74 per sq.km)\n"
     ]
    }
   ],
   "source": [
    "insights = []\n",
    "\n",
    "# Largest/smallest area\n",
    "a_max = df.loc[df[\"Area (in sq. km)\"].idxmax(), [\"District Name\",\"Area (in sq. km)\"]]\n",
    "a_min = df.loc[df[\"Area (in sq. km)\"].idxmin(), [\"District Name\",\"Area (in sq. km)\"]]\n",
    "insights += [f\"Largest by area: {a_max['District Name']} ({int(a_max['Area (in sq. km)'])} sq.km)\",\n",
    "             f\"Smallest by area: {a_min['District Name']} ({int(a_min['Area (in sq. km)'])} sq.km)\"]\n",
    "\n",
    "# Highest/lowest literacy\n",
    "l_max = df.loc[df[\"Literacy Rate (%)\"].idxmax(), [\"District Name\",\"Literacy Rate (%)\"]]\n",
    "l_min = df.loc[df[\"Literacy Rate (%)\"].idxmin(), [\"District Name\",\"Literacy Rate (%)\"]]\n",
    "insights += [f\"Highest literacy: {l_max['District Name']} ({l_max['Literacy Rate (%)']:.2f}%)\",\n",
    "             f\"Lowest literacy: {l_min['District Name']} ({l_min['Literacy Rate (%)']:.2f}%)\"]\n",
    "\n",
    "# Urbanization\n",
    "u_max = df.loc[df[\"Urban Population (%)\"].idxmax(), [\"District Name\",\"Urban Population (%)\"]]\n",
    "u_min = df.loc[df[\"Urban Population (%)\"].idxmin(), [\"District Name\",\"Urban Population (%)\"]]\n",
    "insights += [f\"Most urbanized: {u_max['District Name']} ({u_max['Urban Population (%)']:.2f}%)\",\n",
    "             f\"Least urbanized: {u_min['District Name']} ({u_min['Urban Population (%)']:.2f}%)\"]\n",
    "\n",
    "# Density\n",
    "d_max = df.loc[df[\"Population Density (per sq. km)\"].idxmax(), [\"District Name\",\"Population Density (per sq. km)\"]]\n",
    "d_min = df.loc[df[\"Population Density (per sq. km)\"].idxmin(), [\"District Name\",\"Population Density (per sq. km)\"]]\n",
    "insights += [f\"Highest density: {d_max['District Name']} ({int(d_max['Population Density (per sq. km)'])} per sq.km)\",\n",
    "             f\"Lowest density: {d_min['District Name']} ({int(d_min['Population Density (per sq. km)'])} per sq.km)\"]\n",
    "\n",
    "print(\"— EDA Highlights —\")\n",
    "for line in insights:\n",
    "    print(\"•\", line)\n"
   ]
  },
  {
   "cell_type": "code",
   "execution_count": 41,
   "id": "436ea381-bf46-4ca8-98b8-c32ef51b02a7",
   "metadata": {},
   "outputs": [
    {
     "data": {
      "text/html": [
       "\n",
       "<div style=\"border:3px solid #2E7D32; border-radius:12px; padding:18px; \n",
       "            background-color:#E8F5E9; color:#1B5E20; font-family:Arial;\">\n",
       "\n",
       "  <h2 style=\"color:#2E7D32;\">🌿 Comprehensive Dataset Insights: Maharashtra Districts</h2>\n",
       "\n",
       "  <h3>📌 Basic Overview</h3>\n",
       "  <ul>\n",
       "    <li><b>Rows & Columns:</b> 36 rows × 17 columns.</li>\n",
       "    <li><b>Columns:</b> District Name, District Code, Administrative Division, Headquarters, Number of Talukas, Area (in sq. km), Population (Census 2011), Population Density (per sq. km), Sex Ratio, Literacy Rate (%), Urban Population (%), Formation Date, Geographical Coordinates (Latitude and Longitude), Major River(s), Major Crop(s), Key Industries/Economy, Tourist Attractions</li>\n",
       "    <li><b>Missing Values:</b> None — dataset is clean.</li>\n",
       "    <li><b>Duplicates:</b> 0 duplicate rows found.</li>\n",
       "  </ul>\n",
       "\n",
       "  <h3>📌 Key Insights</h3>\n",
       "  <ul>\n",
       "    <li><b>Highest population district:</b> Pune (9,429,408)</li>\n",
       "    <li><b>Lowest population district:</b> Sindhudurg (849,651)</li>\n",
       "    <li><b>Highest literacy rate:</b> Mumbai Suburban (89.91%)</li>\n",
       "    <li><b>Lowest literacy rate:</b> Nandurbar (64.38%)</li>\n",
       "    <li><b>Largest district by area:</b> Ahilyanagar (17048 sq.km)</li>\n",
       "    <li><b>Smallest district by area:</b> Mumbai City (157 sq.km)</li>\n",
       "    <li><b>Most urbanized district:</b> Mumbai City (100.0%)</li>\n",
       "    <li><b>Least urbanized district:</b> Gadchiroli (11.0%)</li>\n",
       "  </ul>\n",
       "\n",
       "  <h3>✅ Final Insight</h3>\n",
       "  <p>\n",
       "    The Maharashtra districts dataset provides a <b>rich snapshot</b> of \n",
       "    demographics, literacy, urbanization, and geography. It is <b>clean, \n",
       "    structured, and ready</b> for exploratory analysis, visualization, \n",
       "    and predictive modeling.\n",
       "  </p>\n",
       "</div>\n"
      ],
      "text/plain": [
       "<IPython.core.display.HTML object>"
      ]
     },
     "metadata": {},
     "output_type": "display_data"
    }
   ],
   "source": [
    "from IPython.display import display, HTML\n",
    "\n",
    "insights_html = \"\"\"\n",
    "<div style=\"border:3px solid #2E7D32; border-radius:12px; padding:18px; \n",
    "            background-color:#E8F5E9; color:#1B5E20; font-family:Arial;\">\n",
    "\n",
    "  <h2 style=\"color:#2E7D32;\">🌿 Comprehensive Dataset Insights: Maharashtra Districts</h2>\n",
    "\n",
    "  <h3>📌 Basic Overview</h3>\n",
    "  <ul>\n",
    "    <li><b>Rows & Columns:</b> {rows} rows × {cols} columns.</li>\n",
    "    <li><b>Columns:</b> {cols_list}</li>\n",
    "    <li><b>Missing Values:</b> None — dataset is clean.</li>\n",
    "    <li><b>Duplicates:</b> {dupes} duplicate rows found.</li>\n",
    "  </ul>\n",
    "\n",
    "  <h3>📌 Key Insights</h3>\n",
    "  <ul>\n",
    "    <li><b>Highest population district:</b> {pop_max}</li>\n",
    "    <li><b>Lowest population district:</b> {pop_min}</li>\n",
    "    <li><b>Highest literacy rate:</b> {lit_max}</li>\n",
    "    <li><b>Lowest literacy rate:</b> {lit_min}</li>\n",
    "    <li><b>Largest district by area:</b> {area_max}</li>\n",
    "    <li><b>Smallest district by area:</b> {area_min}</li>\n",
    "    <li><b>Most urbanized district:</b> {urb_max}</li>\n",
    "    <li><b>Least urbanized district:</b> {urb_min}</li>\n",
    "  </ul>\n",
    "\n",
    "  <h3>✅ Final Insight</h3>\n",
    "  <p>\n",
    "    The Maharashtra districts dataset provides a <b>rich snapshot</b> of \n",
    "    demographics, literacy, urbanization, and geography. It is <b>clean, \n",
    "    structured, and ready</b> for exploratory analysis, visualization, \n",
    "    and predictive modeling.\n",
    "  </p>\n",
    "</div>\n",
    "\"\"\".format(\n",
    "    rows=df.shape[0],\n",
    "    cols=df.shape[1],\n",
    "    cols_list=\", \".join(df.columns),\n",
    "    dupes=int(df.duplicated().sum()),\n",
    "    pop_max=f\"{df.loc[df['Population (Census 2011)'].idxmax(), 'District Name']} ({df['Population (Census 2011)'].max():,})\",\n",
    "    pop_min=f\"{df.loc[df['Population (Census 2011)'].idxmin(), 'District Name']} ({df['Population (Census 2011)'].min():,})\",\n",
    "    lit_max=f\"{df.loc[df['Literacy Rate (%)'].idxmax(), 'District Name']} ({df['Literacy Rate (%)'].max()}%)\",\n",
    "    lit_min=f\"{df.loc[df['Literacy Rate (%)'].idxmin(), 'District Name']} ({df['Literacy Rate (%)'].min()}%)\",\n",
    "    area_max=f\"{df.loc[df['Area (in sq. km)'].idxmax(), 'District Name']} ({df['Area (in sq. km)'].max()} sq.km)\",\n",
    "    area_min=f\"{df.loc[df['Area (in sq. km)'].idxmin(), 'District Name']} ({df['Area (in sq. km)'].min()} sq.km)\",\n",
    "    urb_max=f\"{df.loc[df['Urban Population (%)'].idxmax(), 'District Name']} ({df['Urban Population (%)'].max()}%)\",\n",
    "    urb_min=f\"{df.loc[df['Urban Population (%)'].idxmin(), 'District Name']} ({df['Urban Population (%)'].min()}%)\"\n",
    ")\n",
    "\n",
    "display(HTML(insights_html))\n"
   ]
  },
  {
   "cell_type": "code",
   "execution_count": null,
   "id": "08c87955-b4ed-4a53-870a-f4c6caa8ee9c",
   "metadata": {},
   "outputs": [],
   "source": []
  }
 ],
 "metadata": {
  "kernelspec": {
   "display_name": "Python 3 (ipykernel)",
   "language": "python",
   "name": "python3"
  },
  "language_info": {
   "codemirror_mode": {
    "name": "ipython",
    "version": 3
   },
   "file_extension": ".py",
   "mimetype": "text/x-python",
   "name": "python",
   "nbconvert_exporter": "python",
   "pygments_lexer": "ipython3",
   "version": "3.12.6"
  }
 },
 "nbformat": 4,
 "nbformat_minor": 5
}
